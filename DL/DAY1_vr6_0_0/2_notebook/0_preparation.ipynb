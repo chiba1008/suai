{
 "cells": [
  {
   "cell_type": "markdown",
   "metadata": {},
   "source": [
    "## 事前準備のお願い\n",
    "- こちらのNotebookがすべてエラーなく実行できれば事前準備はOKです\n",
    "- 実行するときは，実行したい部分（セル）をクリックした後にShiftキーとEnterキーを同時押し"
   ]
  },
  {
   "cell_type": "code",
   "execution_count": 1,
   "metadata": {
    "scrolled": true
   },
   "outputs": [],
   "source": [
    "%matplotlib inline"
   ]
  },
  {
   "cell_type": "markdown",
   "metadata": {},
   "source": [
    "### (1) Anaconda3-2019.03がインストールされていることを確認\n",
    "* Anaconda3-2019.03でない場合は、一旦このNotebookを閉じて、Anaconda3-2019.03をインストールしなおしてください。その際、バージョンの混乱を避けるため、先にインストール済みのAnacondaをアンインストールしておいて下さい。\n",
    "* Anaconda3-2019.03のAnacondaがインストールされていることを確認できた方は、(2)以降に進んでください。"
   ]
  },
  {
   "cell_type": "markdown",
   "metadata": {},
   "source": [
    "### (2) 各ライブラリのバージョン確認"
   ]
  },
  {
   "cell_type": "code",
   "execution_count": 2,
   "metadata": {},
   "outputs": [
    {
     "name": "stdout",
     "output_type": "stream",
     "text": [
      "1.23.3\n",
      "1.16.2であればok\n",
      "1.5.0\n",
      "0.24.2であればok\n",
      "1.1.2\n",
      "0.20.3であればok\n",
      "3.6.0\n",
      "3.0.3であればok\n",
      "0.12.0\n",
      "0.9.0であればok\n",
      "9.2.0\n",
      "5.4.1であればok\n"
     ]
    }
   ],
   "source": [
    "import numpy as np\n",
    "print(np.__version__)\n",
    "print(\"1.16.2であればok\")\n",
    "\n",
    "import pandas as pd\n",
    "print(pd.__version__)\n",
    "print(\"0.24.2であればok\")\n",
    "\n",
    "import sklearn as sk\n",
    "print(sk.__version__)\n",
    "print(\"0.20.3であればok\")\n",
    "\n",
    "import matplotlib as mpl\n",
    "print(mpl.__version__)\n",
    "print(\"3.0.3であればok\")\n",
    "\n",
    "import seaborn as sns\n",
    "print(sns.__version__)\n",
    "print(\"0.9.0であればok\")\n",
    "\n",
    "\n",
    "import PIL as pil\n",
    "print(pil.__version__)\n",
    "print(\"5.4.1であればok\")"
   ]
  },
  {
   "cell_type": "markdown",
   "metadata": {},
   "source": [
    "### (3) tensorflowのインストール\n",
    "* 端末にて以下を実行しインストールする\n",
    "```\n",
    "pip install tensorflow==1.14.0\n",
    "```"
   ]
  },
  {
   "cell_type": "code",
   "execution_count": 3,
   "metadata": {
    "ExecuteTime": {
     "end_time": "2018-03-30T03:28:08.645449Z",
     "start_time": "2018-03-30T03:28:08.636314Z"
    }
   },
   "outputs": [
    {
     "name": "stdout",
     "output_type": "stream",
     "text": [
      "2.10.0\n",
      "1.14.0であればok\n"
     ]
    }
   ],
   "source": [
    "import tensorflow as tf\n",
    "print(tf.__version__)\n",
    "print(\"1.14.0であればok\")"
   ]
  },
  {
   "cell_type": "markdown",
   "metadata": {},
   "source": [
    "### (4)TensofFlowが問題なくインストールできていることの確認"
   ]
  },
  {
   "cell_type": "code",
   "execution_count": 4,
   "metadata": {
    "ExecuteTime": {
     "end_time": "2018-03-30T03:28:21.309288Z",
     "start_time": "2018-03-30T03:28:21.287675Z"
    }
   },
   "outputs": [
    {
     "ename": "AttributeError",
     "evalue": "module 'tensorflow' has no attribute 'Session'",
     "output_type": "error",
     "traceback": [
      "\u001b[0;31m---------------------------------------------------------------------------\u001b[0m",
      "\u001b[0;31mAttributeError\u001b[0m                            Traceback (most recent call last)",
      "Cell \u001b[0;32mIn [4], line 4\u001b[0m\n\u001b[1;32m      2\u001b[0m \u001b[39mimport\u001b[39;00m \u001b[39mtensorflow\u001b[39;00m \u001b[39mas\u001b[39;00m \u001b[39mtf\u001b[39;00m\n\u001b[1;32m      3\u001b[0m hello \u001b[39m=\u001b[39m tf\u001b[39m.\u001b[39mconstant(\u001b[39m'\u001b[39m\u001b[39mHello, TensorFlow!\u001b[39m\u001b[39m'\u001b[39m)\n\u001b[0;32m----> 4\u001b[0m sess \u001b[39m=\u001b[39m tf\u001b[39m.\u001b[39;49mSession()\n\u001b[1;32m      5\u001b[0m \u001b[39mprint\u001b[39m(sess\u001b[39m.\u001b[39mrun(hello))\n",
      "\u001b[0;31mAttributeError\u001b[0m: module 'tensorflow' has no attribute 'Session'"
     ]
    }
   ],
   "source": [
    "# Python\n",
    "import tensorflow as tf\n",
    "hello = tf.constant('Hello, TensorFlow!')\n",
    "sess = tf.Session()\n",
    "print(sess.run(hello))"
   ]
  },
  {
   "cell_type": "markdown",
   "metadata": {
    "collapsed": true
   },
   "source": [
    "### (5)MNISTデータをダウンロードする"
   ]
  },
  {
   "cell_type": "code",
   "execution_count": 5,
   "metadata": {
    "scrolled": true
   },
   "outputs": [
    {
     "name": "stdout",
     "output_type": "stream",
     "text": [
      "学習用データの数 (60000,)\n",
      "テスト用データの数 (10000,)\n"
     ]
    }
   ],
   "source": [
    "import tensorflow as tf\n",
    "mnist = tf.keras.datasets.mnist\n",
    "(X_train, y_train),(X_test, y_test) = mnist.load_data()\n",
    "\n",
    "print(\"学習用データの数\",y_train.shape) # 60000であればok\n",
    "print(\"テスト用データの数\",y_test.shape) # 10000であればok"
   ]
  },
  {
   "cell_type": "code",
   "execution_count": 6,
   "metadata": {
    "ExecuteTime": {
     "end_time": "2018-03-30T03:28:44.482101Z",
     "start_time": "2018-03-30T03:28:43.987197Z"
    }
   },
   "outputs": [
    {
     "name": "stdout",
     "output_type": "stream",
     "text": [
      "label= 5\n"
     ]
    },
    {
     "data": {
      "image/png": "[encoded data removed]",
      "text/plain": [
       "<Figure size 640x480 with 1 Axes>"
      ]
     },
     "metadata": {},
     "output_type": "display_data"
    }
   ],
   "source": [
    "import numpy as np\n",
    "import matplotlib.pylab as plt\n",
    "label = y_train[0]\n",
    "img = X_train[0,:]\n",
    "print(\"label=\", label)\n",
    "plt.imshow(img)\n",
    "plt.gray()\n",
    "plt.show()\n",
    "\n",
    "# 手書きの5が表示されればok"
   ]
  },
  {
   "cell_type": "markdown",
   "metadata": {},
   "source": [
    "### (6) kerasのインストール\n",
    "* 端末にて以下を実行しインストールする\n",
    "```\n",
    "pip install keras==2.2.4\n",
    "```"
   ]
  },
  {
   "cell_type": "code",
   "execution_count": 7,
   "metadata": {
    "ExecuteTime": {
     "end_time": "2018-03-30T03:31:32.201453Z",
     "start_time": "2018-03-30T03:31:32.193507Z"
    }
   },
   "outputs": [
    {
     "name": "stdout",
     "output_type": "stream",
     "text": [
      "2.10.0\n",
      "2.2.4であればok\n"
     ]
    }
   ],
   "source": [
    "import keras\n",
    "keras.__version__\n",
    "print(keras.__version__)\n",
    "print(\"2.2.4であればok\")"
   ]
  },
  {
   "cell_type": "markdown",
   "metadata": {},
   "source": [
    "### (7) 端末にてplotlyをインストール\n",
    "* pip install plotly==4.1.1"
   ]
  },
  {
   "cell_type": "code",
   "execution_count": 9,
   "metadata": {},
   "outputs": [
    {
     "name": "stdout",
     "output_type": "stream",
     "text": [
      "5.11.0\n",
      "4.1.1であればok\n"
     ]
    }
   ],
   "source": [
    "import plotly\n",
    "print(plotly.__version__)\n",
    "print(\"4.1.1であればok\")"
   ]
  },
  {
   "cell_type": "markdown",
   "metadata": {},
   "source": [
    "### (8)端末にてAugmentorをインストール\n",
    "* pip install Augmentor\n",
    "* versionは、0.2.3以降であればok"
   ]
  },
  {
   "cell_type": "code",
   "execution_count": 12,
   "metadata": {},
   "outputs": [
    {
     "name": "stdout",
     "output_type": "stream",
     "text": [
      "0.2.10\n",
      "0.2.6であればok\n"
     ]
    }
   ],
   "source": [
    "import Augmentor\n",
    "print(Augmentor.__version__)\n",
    "print(\"0.2.6であればok\")"
   ]
  },
  {
   "cell_type": "markdown",
   "metadata": {},
   "source": [
    "### (9) Mecab環境の構築"
   ]
  },
  {
   "cell_type": "markdown",
   "metadata": {},
   "source": [
    "### Windowsの場合\n",
    "* 1.Mecabのインストール    \n",
    "    * http://oita.oika.me/2018/05/03/python3-mecab-on-windows/\n",
    "* 2.mecab-python-windowsのインストール    \n",
    "```\n",
    "pip install mecab-python-windows\n",
    "```\n",
    "        \n",
    "        \n",
    "\n",
    "### Mac, Linuxの場合\n",
    "#### 1.swigのインストール\n",
    "* Macの場合\n",
    "    * brew install swig\n",
    "* Ubuntuの場合\n",
    "    * sudo apt-get install swig\n",
    "    \n",
    "\n",
    "#### 2. MeCabのインストール\n",
    "* MeCabの公式サイト  \n",
    "    http://taku910.github.io/mecab/#install  \n",
    "* インストール方法  \n",
    "    mecab-0.996.tar.gzをダウンロードし、端末にて以下を実行する。\n",
    "    \n",
    "    ```    \n",
    "    tar zxfv mecab-0.996.tar.gz\n",
    "    cd mecab-0.996\n",
    "    ./configure \n",
    "    make\n",
    "    make check\n",
    "    sudo make install\n",
    "    ```\n",
    "\n",
    "    次に、辞書のインストール。mecab-ipadic-2.7.0-20070801.tar.gzをダウンロードし、端末にて以下を実行する。\n",
    "    \n",
    "    ```\n",
    "    tar zxfv mecab-ipadic-2.7.0-20070801.tar.gz\n",
    "    cd mecab-ipadic-2.7.0-20070801\n",
    "    ./configure --with-charset=utf8\n",
    "    make\n",
    "    sudo make install\n",
    "    ```\n",
    "\n",
    "#### 3. mecab-python3のインストール\n",
    "```\n",
    "pip install -U mecab-python3==0.996.2\n",
    "```\n"
   ]
  },
  {
   "cell_type": "code",
   "execution_count": 14,
   "metadata": {},
   "outputs": [
    {
     "ename": "ModuleNotFoundError",
     "evalue": "No module named 'MeCab'",
     "output_type": "error",
     "traceback": [
      "\u001b[0;31m---------------------------------------------------------------------------\u001b[0m",
      "\u001b[0;31mModuleNotFoundError\u001b[0m                       Traceback (most recent call last)",
      "Cell \u001b[0;32mIn [14], line 1\u001b[0m\n\u001b[0;32m----> 1\u001b[0m \u001b[39mimport\u001b[39;00m \u001b[39mMeCab\u001b[39;00m\n\u001b[1;32m      2\u001b[0m \u001b[39mprint\u001b[39m(MeCab\u001b[39m.\u001b[39mVERSION)\n\u001b[1;32m      3\u001b[0m \u001b[39mprint\u001b[39m(\u001b[39m\"\u001b[39m\u001b[39m0.996であればok\u001b[39m\u001b[39m\"\u001b[39m)\n",
      "\u001b[0;31mModuleNotFoundError\u001b[0m: No module named 'MeCab'"
     ]
    }
   ],
   "source": [
    "import MeCab\n",
    "print(MeCab.VERSION)\n",
    "print(\"0.996であればok\")"
   ]
  },
  {
   "cell_type": "markdown",
   "metadata": {},
   "source": [
    "### (10) 端末にて、gensimをインストール\n",
    "* pip install gensim==3.8.0"
   ]
  },
  {
   "cell_type": "code",
   "execution_count": 16,
   "metadata": {},
   "outputs": [
    {
     "name": "stdout",
     "output_type": "stream",
     "text": [
      "3.8.0\n",
      "3.8.0であればok\n"
     ]
    }
   ],
   "source": [
    "import gensim\n",
    "print(gensim.__version__)\n",
    "print(\"3.8.0であればok\")"
   ]
  },
  {
   "cell_type": "code",
   "execution_count": 17,
   "metadata": {},
   "outputs": [
    {
     "name": "stdout",
     "output_type": "stream",
     "text": [
      "[-1.30001032 -1.07298904  0.79019919 -0.8782655   1.50182182 -0.02392945\n",
      "  0.27594888 -0.96639308 -1.58031468 -0.20367464]\n",
      "[-1.54766708 -0.39149765  1.09438578 -0.3756688  -0.93873425  0.41438157\n",
      "  1.36151086  1.37905918  0.66694943  0.17196362]\n"
     ]
    }
   ],
   "source": [
    "import numpy as np\n",
    "\n",
    "np.random.seed(1111)\n",
    "print(np.random.randn(10))\n",
    "# np.random.seed(1111)\n",
    "print(np.random.randn(10))\n",
    "      \n"
   ]
  },
  {
   "cell_type": "code",
   "execution_count": null,
   "metadata": {},
   "outputs": [],
   "source": []
  }
 ],
 "metadata": {
  "kernelspec": {
   "display_name": "Python 3.9.13 ('suai')",
   "language": "python",
   "name": "python3"
  },
  "language_info": {
   "codemirror_mode": {
    "name": "ipython",
    "version": 3
   },
   "file_extension": ".py",
   "mimetype": "text/x-python",
   "name": "python",
   "nbconvert_exporter": "python",
   "pygments_lexer": "ipython3",
   "version": "3.9.13"
  },
  "vscode": {
   "interpreter": {
    "hash": "4451178ddd8a2c3a2b283d3269df05f686f645e61f29b4919f8984282f3d930d"
   }
  }
 },
 "nbformat": 4,
 "nbformat_minor": 2
}
