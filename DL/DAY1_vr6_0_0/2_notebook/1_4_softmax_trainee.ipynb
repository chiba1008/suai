{
 "cells": [
  {
   "cell_type": "markdown",
   "metadata": {
    "ExecuteTime": {
     "end_time": "2018-03-28T14:45:19.508576Z",
     "start_time": "2018-03-28T14:45:19.500809Z"
    }
   },
   "source": [
    "# ソフトマックス関数"
   ]
  },
  {
   "cell_type": "code",
   "execution_count": 1,
   "metadata": {
    "ExecuteTime": {
     "end_time": "2018-03-30T00:22:25.611045Z",
     "start_time": "2018-03-30T00:22:25.233609Z"
    }
   },
   "outputs": [],
   "source": [
    "import numpy as np\n",
    "import matplotlib.pyplot as plt"
   ]
  },
  {
   "cell_type": "markdown",
   "metadata": {},
   "source": [
    "## ソフトマックス関数\n",
    "* ソフトマックス関数は、複数の入力を正規化し、合計値が1になるようにする関数\n",
    "* 正規化する前に、指数関数(exp)を計算している。"
   ]
  },
  {
   "cell_type": "markdown",
   "metadata": {},
   "source": [
    "$\\displaystyle{y_k=\\frac{\\exp(a_k)}{\\Sigma_{i=1}^{K}(\\exp(a_i))}}$  \n",
    "   \n",
    "$y_k$:出力層のノード番号$k$に対応するソフトマックスの出力値     \n",
    "$K$:出力層のノード数  \n",
    "$k$:出力層のノード番号  "
   ]
  },
  {
   "cell_type": "markdown",
   "metadata": {
    "ExecuteTime": {
     "end_time": "2018-03-30T00:21:43.169551Z",
     "start_time": "2018-03-30T00:21:43.165222Z"
    }
   },
   "source": [
    "### [問]\n",
    "* expしてから正規化する理由は？\n",
    "* 参考として、exp関数を以下に示す。"
   ]
  },
  {
   "cell_type": "code",
   "execution_count": 2,
   "metadata": {
    "ExecuteTime": {
     "end_time": "2018-03-30T00:26:47.689137Z",
     "start_time": "2018-03-30T00:26:47.513916Z"
    }
   },
   "outputs": [
    {
     "data": {
      "image/png": "[encoded data removed]",
      "text/plain": [
       "<Figure size 640x480 with 1 Axes>"
      ]
     },
     "metadata": {},
     "output_type": "display_data"
    }
   ],
   "source": [
    "# exp関数\n",
    "x = np.linspace(-5,5,100)\n",
    "y = np.exp(x)\n",
    "plt.plot(x,y)\n",
    "plt.show()"
   ]
  },
  {
   "cell_type": "markdown",
   "metadata": {
    "ExecuteTime": {
     "end_time": "2018-03-30T00:14:48.802011Z",
     "start_time": "2018-03-30T00:14:48.636003Z"
    }
   },
   "source": [
    "### ソフトマックス関数実装上の注意\n",
    "指数関数の値が大きくなり、オーバーフローを起こす可能性がある。例えば、"
   ]
  },
  {
   "cell_type": "code",
   "execution_count": 3,
   "metadata": {
    "ExecuteTime": {
     "end_time": "2018-03-30T00:26:50.090829Z",
     "start_time": "2018-03-30T00:26:50.077331Z"
    }
   },
   "outputs": [
    {
     "name": "stdout",
     "output_type": "stream",
     "text": [
      "2.3538526683702e+17\n",
      "2.6881171418161356e+43\n",
      "inf\n"
     ]
    },
    {
     "name": "stderr",
     "output_type": "stream",
     "text": [
      "/var/folders/_0/2_dvy_6971dfbf9qw0p9q7lm0000gn/T/ipykernel_85226/3160519054.py:3: RuntimeWarning: overflow encountered in exp\n",
      "  print(np.exp(1000))\n"
     ]
    }
   ],
   "source": [
    "print(np.exp(40))\n",
    "print(np.exp(100))\n",
    "print(np.exp(1000))"
   ]
  },
  {
   "cell_type": "markdown",
   "metadata": {},
   "source": [
    "これを回避する方法の一つとして、入力信号の最大値を引くという方法がある。  \n",
    "ここでもその方法で実装することにする。"
   ]
  },
  {
   "cell_type": "markdown",
   "metadata": {},
   "source": [
    "### [演習]\n",
    "- 以下のソフトマックス関数を完成させましょう"
   ]
  },
  {
   "cell_type": "code",
   "execution_count": 5,
   "metadata": {
    "ExecuteTime": {
     "end_time": "2018-03-30T00:33:46.920402Z",
     "start_time": "2018-03-30T00:33:46.911373Z"
    }
   },
   "outputs": [],
   "source": [
    "def softmax_1(x):    \n",
    "    \"\"\"\n",
    "    オーバーフロー対策なしの場合\n",
    "    \"\"\"\n",
    "    exp_a = np.exp(x)\n",
    "    return exp_a / np.sum(exp_a)\n",
    "\n",
    "def softmax_2(x):\n",
    "    \"\"\"\n",
    "    オーバーフロー対策ありの場合\n",
    "    \"\"\"\n",
    "    c = np.max(x)    \n",
    "    exp_a = np.exp(x - c)\n",
    "    return exp_a / np.sum(exp_a)"
   ]
  },
  {
   "cell_type": "code",
   "execution_count": 6,
   "metadata": {
    "ExecuteTime": {
     "end_time": "2018-03-30T00:33:47.073526Z",
     "start_time": "2018-03-30T00:33:47.041044Z"
    },
    "scrolled": true
   },
   "outputs": [
    {
     "name": "stdout",
     "output_type": "stream",
     "text": [
      "[0.09003057 0.24472847 0.66524096]\n",
      "合計= 1.0\n",
      "[0.09003057 0.24472847 0.66524096]\n",
      "合計= 0.9999999999999999\n"
     ]
    }
   ],
   "source": [
    "x = np.array([1.0, 2.0, 3.0])\n",
    "\n",
    "# オーバーフロー対策なしの場合\n",
    "y = softmax_1(x)\n",
    "print(y)\n",
    "# 合計が1になることの確認\n",
    "print(\"合計=\", np.sum(y))\n",
    "\n",
    "# オーバーフロー対策ありの場合\n",
    "y = softmax_2(x)\n",
    "print(y)\n",
    "# 合計が1になることの確認\n",
    "print(\"合計=\", np.sum(y))"
   ]
  },
  {
   "cell_type": "markdown",
   "metadata": {},
   "source": [
    "* 最大値を引いても還り値は同じであることがわかる"
   ]
  },
  {
   "cell_type": "markdown",
   "metadata": {},
   "source": [
    "### [演習]\n",
    "* 上記セルのxの配列に大きな値を入れて、オーバーフローを発生させてみましょう。"
   ]
  },
  {
   "cell_type": "markdown",
   "metadata": {},
   "source": [
    "### [演習]\n",
    "* 以下のセルの実行結果をみながら、ソフトマックス関数の特徴を考察してみましょう。\n",
    "* expしてから正規化するのではなく、単純に正規化するとどうなりますか？(冒頭の問い)\n",
    "* expしてから正規化するのではなく、シグモイド関数に通してから正規化するとどうなりますか？"
   ]
  },
  {
   "cell_type": "code",
   "execution_count": 7,
   "metadata": {},
   "outputs": [
    {
     "name": "stdout",
     "output_type": "stream",
     "text": [
      "x= [1 0 2]\n",
      "ソフトマックス= [0.245 0.09  0.665]\n",
      "単純な正規化= [0.333 0.    0.667]\n",
      "シグモイド関数を通した後に正規化= [0.346 0.237 0.417]\n",
      "\n",
      "x= [ 5  0 10]\n",
      "ソフトマックス= [0.007 0.    0.993]\n",
      "単純な正規化= [0.333 0.    0.667]\n",
      "シグモイド関数を通した後に正規化= [0.398 0.201 0.401]\n",
      "\n",
      "x= [105 100 110]\n",
      "ソフトマックス= [0.007 0.    0.993]\n",
      "単純な正規化= [0.333 0.317 0.349]\n",
      "シグモイド関数を通した後に正規化= [0.333 0.333 0.333]\n",
      "\n",
      "x= [ 50   0 100]\n",
      "ソフトマックス= [0. 0. 1.]\n",
      "単純な正規化= [0.333 0.    0.667]\n",
      "シグモイド関数を通した後に正規化= [0.4 0.2 0.4]\n",
      "\n",
      "x= [-50   0   1]\n",
      "ソフトマックス= [0.    0.269 0.731]\n",
      "単純な正規化= [ 1.02 -0.   -0.02]\n",
      "シグモイド関数を通した後に正規化= [0.    0.406 0.594]\n",
      "\n",
      "x= [-50   0  10]\n",
      "ソフトマックス= [0. 0. 1.]\n",
      "単純な正規化= [ 1.25 -0.   -0.25]\n",
      "シグモイド関数を通した後に正規化= [0.    0.333 0.667]\n"
     ]
    }
   ],
   "source": [
    "def sigmoid(x):\n",
    "    return 1 / (1+ np.exp(-x))\n",
    "\n",
    "\n",
    "x = np.array([1, 0, 2])\n",
    "print(\"x=\", x)\n",
    "print(\"ソフトマックス=\", softmax_2(x).round(3))\n",
    "print(\"単純な正規化=\", (x/np.sum(x)).round(3))\n",
    "print(\"シグモイド関数を通した後に正規化=\", (sigmoid(x)/sigmoid(x).sum()).round(3))\n",
    "print()\n",
    "x = np.array([5, 0, 10])\n",
    "print(\"x=\", x)\n",
    "print(\"ソフトマックス=\", softmax_2(x).round(3))\n",
    "print(\"単純な正規化=\", (x/np.sum(x)).round(3))\n",
    "print(\"シグモイド関数を通した後に正規化=\", (sigmoid(x)/sigmoid(x).sum()).round(3))\n",
    "print()\n",
    "x = np.array([5+100, 0+100, 10+100])\n",
    "print(\"x=\", x)\n",
    "print(\"ソフトマックス=\", softmax_2(x).round(3))\n",
    "print(\"単純な正規化=\", (x/np.sum(x)).round(3))\n",
    "print(\"シグモイド関数を通した後に正規化=\", (sigmoid(x)/sigmoid(x).sum()).round(3))\n",
    "print()\n",
    "x = np.array([50, 0, 100])\n",
    "print(\"x=\", x)\n",
    "print(\"ソフトマックス=\", softmax_2(x).round(3))\n",
    "print(\"単純な正規化=\", (x/np.sum(x)).round(3))\n",
    "print(\"シグモイド関数を通した後に正規化=\", (sigmoid(x)/sigmoid(x).sum()).round(3))\n",
    "print()\n",
    "x = np.array([-50, 0, 1])\n",
    "print(\"x=\", x)\n",
    "print(\"ソフトマックス=\", softmax_2(x).round(3))\n",
    "print(\"単純な正規化=\", (x/np.sum(x)).round(3))\n",
    "print(\"シグモイド関数を通した後に正規化=\", (sigmoid(x)/sigmoid(x).sum()).round(3))\n",
    "print()\n",
    "x = np.array([-50, 0, 10])\n",
    "print(\"x=\", x)\n",
    "print(\"ソフトマックス=\", softmax_2(x).round(3))\n",
    "print(\"単純な正規化=\", (x/np.sum(x)).round(3))\n",
    "print(\"シグモイド関数を通した後に正規化=\", (sigmoid(x)/sigmoid(x).sum()).round(3))"
   ]
  },
  {
   "cell_type": "markdown",
   "metadata": {},
   "source": [
    "\n",
    "\n",
    "### [演習]\n",
    "* オーバーフロー対策ありソフトマックス関数のxに大きな値が入ってもエラーが出ずに計算できることを確認しましょう。"
   ]
  },
  {
   "cell_type": "markdown",
   "metadata": {},
   "source": [
    "## ソフトマックス関数のバッチ対応"
   ]
  },
  {
   "cell_type": "markdown",
   "metadata": {},
   "source": [
    "### [演習]\n",
    "- 複数データをまとめて処理することをバッチ処理と言います。\n",
    "- ソフトマックス関数をバッチ対応させましょう。\n",
    "- 以下のソフトマックス関数を完成させてください。"
   ]
  },
  {
   "cell_type": "code",
   "execution_count": 7,
   "metadata": {},
   "outputs": [
    {
     "name": "stdout",
     "output_type": "stream",
     "text": [
      "[[1. 4.]\n",
      " [2. 3.]\n",
      " [3. 2.]]\n",
      "\n",
      "[3. 4.]\n",
      "\n",
      "[[ 2.71828183 54.59815003]\n",
      " [ 7.3890561  20.08553692]\n",
      " [20.08553692  7.3890561 ]]\n",
      "\n",
      "[30.19287485 82.07274306]\n"
     ]
    }
   ],
   "source": [
    "# ヒント\n",
    "x = np.array([[1.0, 2.0, 3.0],\n",
    "              [4.0, 3.0, 2.0]])\n",
    "print(x.T)\n",
    "print()\n",
    "x = x.T\n",
    "print(np.max(x, axis=0))\n",
    "print()\n",
    "print(np.exp(x))\n",
    "print()\n",
    "print(np.sum(np.exp(x), axis=0))"
   ]
  },
  {
   "cell_type": "code",
   "execution_count": 8,
   "metadata": {},
   "outputs": [],
   "source": [
    "def softmax(x):\n",
    "    x = x - np.max(x, axis=1, keepdims=True)\n",
    "    y = np.exp(x)/np.sum(np.exp(x),axis=1, keepdims=True)\n",
    "    return y"
   ]
  },
  {
   "cell_type": "code",
   "execution_count": 9,
   "metadata": {},
   "outputs": [
    {
     "name": "stdout",
     "output_type": "stream",
     "text": [
      "y=\n",
      "[[0.09003057 0.24472847 0.66524096]\n",
      " [0.66524096 0.24472847 0.09003057]]\n",
      "yの合計=\n",
      "[1. 1.]\n"
     ]
    }
   ],
   "source": [
    "# 入力[1.0, 2.0, 3.0]に対するソフトマックスと入力[4.0, 3.0, 2.0]に対するソフトマックスを計算できるようにすること\n",
    "\n",
    "x = np.array([[1.0, 2.0, 3.0],\n",
    "                        [4.0, 3.0, 2.0]])\n",
    "\n",
    "y = softmax(x)\n",
    "print(\"y=\")\n",
    "print(y)\n",
    "print(\"yの合計=\")\n",
    "print(y.sum(axis=1))"
   ]
  },
  {
   "cell_type": "code",
   "execution_count": null,
   "metadata": {},
   "outputs": [],
   "source": []
  }
 ],
 "metadata": {
  "kernelspec": {
   "display_name": "Python 3.9.13 ('suai')",
   "language": "python",
   "name": "python3"
  },
  "language_info": {
   "codemirror_mode": {
    "name": "ipython",
    "version": 3
   },
   "file_extension": ".py",
   "mimetype": "text/x-python",
   "name": "python",
   "nbconvert_exporter": "python",
   "pygments_lexer": "ipython3",
   "version": "3.9.13"
  },
  "vscode": {
   "interpreter": {
    "hash": "4451178ddd8a2c3a2b283d3269df05f686f645e61f29b4919f8984282f3d930d"
   }
  }
 },
 "nbformat": 4,
 "nbformat_minor": 2
}
