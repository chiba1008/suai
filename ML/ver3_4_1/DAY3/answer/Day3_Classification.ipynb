{
 "cells": [
  {
   "cell_type": "markdown",
   "metadata": {},
   "source": [
    "# 通し課題模範解答 分類編 DAY 3\n",
    "- kaggle の kickstarter project に関して，成功・失敗を予測するモデルを作成する\n",
    "    - https://www.kaggle.com/kemical/kickstarter-projects?select=ks-projects-201801.csv\n",
    "- DAY 3 では，以下を行う\n",
    "    - 特徴選択\n",
    "        - フィルタ法\n",
    "        - ラッパー法\n",
    "        - 埋め込み法\n",
    "    - 木モデルの利用\n",
    "        - 決定木\n",
    "        - ランダムフォレスト\n",
    "        - アダブースト\n",
    "    - ニューラルネットワークの利用"
   ]
  },
  {
   "cell_type": "code",
   "execution_count": 1,
   "metadata": {},
   "outputs": [],
   "source": [
    "import pandas as pd\n",
    "import numpy as np\n",
    "import matplotlib.pyplot as plt\n",
    "import seaborn as sns\n",
    "from sklearn.linear_model import SGDClassifier, LogisticRegressionCV\n",
    "from sklearn.tree import DecisionTreeClassifier\n",
    "from sklearn.ensemble import RandomForestClassifier, AdaBoostClassifier\n",
    "from sklearn.feature_selection import RFECV, SelectFromModel\n",
    "from sklearn.model_selection import train_test_split, KFold, GridSearchCV\n",
    "from sklearn.metrics import accuracy_score, precision_score, recall_score, f1_score\n",
    "from sklearn.preprocessing import StandardScaler, PolynomialFeatures\n",
    "from sklearn.pipeline import Pipeline"
   ]
  },
  {
   "cell_type": "code",
   "execution_count": 2,
   "metadata": {},
   "outputs": [
    {
     "data": {
      "text/html": [
       "<div>\n",
       "<style scoped>\n",
       "    .dataframe tbody tr th:only-of-type {\n",
       "        vertical-align: middle;\n",
       "    }\n",
       "\n",
       "    .dataframe tbody tr th {\n",
       "        vertical-align: top;\n",
       "    }\n",
       "\n",
       "    .dataframe thead th {\n",
       "        text-align: right;\n",
       "    }\n",
       "</style>\n",
       "<table border=\"1\" class=\"dataframe\">\n",
       "  <thead>\n",
       "    <tr style=\"text-align: right;\">\n",
       "      <th></th>\n",
       "      <th>period</th>\n",
       "      <th>log_usd_goal</th>\n",
       "      <th>n_words</th>\n",
       "      <th>main_category_Comics</th>\n",
       "      <th>main_category_Crafts</th>\n",
       "      <th>main_category_Dance</th>\n",
       "      <th>main_category_Design</th>\n",
       "      <th>main_category_Fashion</th>\n",
       "      <th>main_category_Film &amp; Video</th>\n",
       "      <th>main_category_Food</th>\n",
       "      <th>...</th>\n",
       "      <th>currency_GBP</th>\n",
       "      <th>currency_HKD</th>\n",
       "      <th>currency_JPY</th>\n",
       "      <th>currency_MXN</th>\n",
       "      <th>currency_NOK</th>\n",
       "      <th>currency_NZD</th>\n",
       "      <th>currency_SEK</th>\n",
       "      <th>currency_SGD</th>\n",
       "      <th>currency_USD</th>\n",
       "      <th>state_successful</th>\n",
       "    </tr>\n",
       "    <tr>\n",
       "      <th>ID</th>\n",
       "      <th></th>\n",
       "      <th></th>\n",
       "      <th></th>\n",
       "      <th></th>\n",
       "      <th></th>\n",
       "      <th></th>\n",
       "      <th></th>\n",
       "      <th></th>\n",
       "      <th></th>\n",
       "      <th></th>\n",
       "      <th></th>\n",
       "      <th></th>\n",
       "      <th></th>\n",
       "      <th></th>\n",
       "      <th></th>\n",
       "      <th></th>\n",
       "      <th></th>\n",
       "      <th></th>\n",
       "      <th></th>\n",
       "      <th></th>\n",
       "      <th></th>\n",
       "    </tr>\n",
       "  </thead>\n",
       "  <tbody>\n",
       "    <tr>\n",
       "      <th>1000002330</th>\n",
       "      <td>58</td>\n",
       "      <td>3.185811</td>\n",
       "      <td>6</td>\n",
       "      <td>0</td>\n",
       "      <td>0</td>\n",
       "      <td>0</td>\n",
       "      <td>0</td>\n",
       "      <td>0</td>\n",
       "      <td>0</td>\n",
       "      <td>0</td>\n",
       "      <td>...</td>\n",
       "      <td>1</td>\n",
       "      <td>0</td>\n",
       "      <td>0</td>\n",
       "      <td>0</td>\n",
       "      <td>0</td>\n",
       "      <td>0</td>\n",
       "      <td>0</td>\n",
       "      <td>0</td>\n",
       "      <td>0</td>\n",
       "      <td>0</td>\n",
       "    </tr>\n",
       "    <tr>\n",
       "      <th>1000003930</th>\n",
       "      <td>59</td>\n",
       "      <td>4.477121</td>\n",
       "      <td>8</td>\n",
       "      <td>0</td>\n",
       "      <td>0</td>\n",
       "      <td>0</td>\n",
       "      <td>0</td>\n",
       "      <td>0</td>\n",
       "      <td>1</td>\n",
       "      <td>0</td>\n",
       "      <td>...</td>\n",
       "      <td>0</td>\n",
       "      <td>0</td>\n",
       "      <td>0</td>\n",
       "      <td>0</td>\n",
       "      <td>0</td>\n",
       "      <td>0</td>\n",
       "      <td>0</td>\n",
       "      <td>0</td>\n",
       "      <td>1</td>\n",
       "      <td>0</td>\n",
       "    </tr>\n",
       "    <tr>\n",
       "      <th>1000004038</th>\n",
       "      <td>44</td>\n",
       "      <td>4.653213</td>\n",
       "      <td>3</td>\n",
       "      <td>0</td>\n",
       "      <td>0</td>\n",
       "      <td>0</td>\n",
       "      <td>0</td>\n",
       "      <td>0</td>\n",
       "      <td>1</td>\n",
       "      <td>0</td>\n",
       "      <td>...</td>\n",
       "      <td>0</td>\n",
       "      <td>0</td>\n",
       "      <td>0</td>\n",
       "      <td>0</td>\n",
       "      <td>0</td>\n",
       "      <td>0</td>\n",
       "      <td>0</td>\n",
       "      <td>0</td>\n",
       "      <td>1</td>\n",
       "      <td>0</td>\n",
       "    </tr>\n",
       "    <tr>\n",
       "      <th>1000007540</th>\n",
       "      <td>29</td>\n",
       "      <td>3.698970</td>\n",
       "      <td>7</td>\n",
       "      <td>0</td>\n",
       "      <td>0</td>\n",
       "      <td>0</td>\n",
       "      <td>0</td>\n",
       "      <td>0</td>\n",
       "      <td>0</td>\n",
       "      <td>0</td>\n",
       "      <td>...</td>\n",
       "      <td>0</td>\n",
       "      <td>0</td>\n",
       "      <td>0</td>\n",
       "      <td>0</td>\n",
       "      <td>0</td>\n",
       "      <td>0</td>\n",
       "      <td>0</td>\n",
       "      <td>0</td>\n",
       "      <td>1</td>\n",
       "      <td>0</td>\n",
       "    </tr>\n",
       "    <tr>\n",
       "      <th>1000014025</th>\n",
       "      <td>34</td>\n",
       "      <td>4.698970</td>\n",
       "      <td>3</td>\n",
       "      <td>0</td>\n",
       "      <td>0</td>\n",
       "      <td>0</td>\n",
       "      <td>0</td>\n",
       "      <td>0</td>\n",
       "      <td>0</td>\n",
       "      <td>1</td>\n",
       "      <td>...</td>\n",
       "      <td>0</td>\n",
       "      <td>0</td>\n",
       "      <td>0</td>\n",
       "      <td>0</td>\n",
       "      <td>0</td>\n",
       "      <td>0</td>\n",
       "      <td>0</td>\n",
       "      <td>0</td>\n",
       "      <td>1</td>\n",
       "      <td>1</td>\n",
       "    </tr>\n",
       "  </tbody>\n",
       "</table>\n",
       "<p>5 rows × 31 columns</p>\n",
       "</div>"
      ],
      "text/plain": [
       "            period  log_usd_goal  n_words  main_category_Comics  \\\n",
       "ID                                                                \n",
       "1000002330      58      3.185811        6                     0   \n",
       "1000003930      59      4.477121        8                     0   \n",
       "1000004038      44      4.653213        3                     0   \n",
       "1000007540      29      3.698970        7                     0   \n",
       "1000014025      34      4.698970        3                     0   \n",
       "\n",
       "            main_category_Crafts  main_category_Dance  main_category_Design  \\\n",
       "ID                                                                            \n",
       "1000002330                     0                    0                     0   \n",
       "1000003930                     0                    0                     0   \n",
       "1000004038                     0                    0                     0   \n",
       "1000007540                     0                    0                     0   \n",
       "1000014025                     0                    0                     0   \n",
       "\n",
       "            main_category_Fashion  main_category_Film & Video  \\\n",
       "ID                                                              \n",
       "1000002330                      0                           0   \n",
       "1000003930                      0                           1   \n",
       "1000004038                      0                           1   \n",
       "1000007540                      0                           0   \n",
       "1000014025                      0                           0   \n",
       "\n",
       "            main_category_Food  ...  currency_GBP  currency_HKD  currency_JPY  \\\n",
       "ID                              ...                                             \n",
       "1000002330                   0  ...             1             0             0   \n",
       "1000003930                   0  ...             0             0             0   \n",
       "1000004038                   0  ...             0             0             0   \n",
       "1000007540                   0  ...             0             0             0   \n",
       "1000014025                   1  ...             0             0             0   \n",
       "\n",
       "            currency_MXN  currency_NOK  currency_NZD  currency_SEK  \\\n",
       "ID                                                                   \n",
       "1000002330             0             0             0             0   \n",
       "1000003930             0             0             0             0   \n",
       "1000004038             0             0             0             0   \n",
       "1000007540             0             0             0             0   \n",
       "1000014025             0             0             0             0   \n",
       "\n",
       "            currency_SGD  currency_USD  state_successful  \n",
       "ID                                                        \n",
       "1000002330             0             0                 0  \n",
       "1000003930             0             1                 0  \n",
       "1000004038             0             1                 0  \n",
       "1000007540             0             1                 0  \n",
       "1000014025             0             1                 1  \n",
       "\n",
       "[5 rows x 31 columns]"
      ]
     },
     "execution_count": 2,
     "metadata": {},
     "output_type": "execute_result"
    }
   ],
   "source": [
    "df = pd.read_csv('../data/df_classification.csv', index_col='ID')\n",
    "df.head()"
   ]
  },
  {
   "cell_type": "code",
   "execution_count": 3,
   "metadata": {},
   "outputs": [],
   "source": [
    "X = df.drop(columns='state_successful')\n",
    "y = df['state_successful']\n",
    "\n",
    "X_train, X_test, y_train, y_test = train_test_split(X, y, test_size=0.3, random_state=1234)"
   ]
  },
  {
   "cell_type": "code",
   "execution_count": 4,
   "metadata": {},
   "outputs": [
    {
     "name": "stderr",
     "output_type": "stream",
     "text": [
      "/Users/mizoguchi/anaconda3/lib/python3.7/site-packages/pandas/core/indexing.py:1736: SettingWithCopyWarning: \n",
      "A value is trying to be set on a copy of a slice from a DataFrame.\n",
      "Try using .loc[row_indexer,col_indexer] = value instead\n",
      "\n",
      "See the caveats in the documentation: https://pandas.pydata.org/pandas-docs/stable/user_guide/indexing.html#returning-a-view-versus-a-copy\n",
      "  isetter(loc, value[:, i].tolist())\n",
      "/Users/mizoguchi/anaconda3/lib/python3.7/site-packages/pandas/core/indexing.py:1736: SettingWithCopyWarning: \n",
      "A value is trying to be set on a copy of a slice from a DataFrame.\n",
      "Try using .loc[row_indexer,col_indexer] = value instead\n",
      "\n",
      "See the caveats in the documentation: https://pandas.pydata.org/pandas-docs/stable/user_guide/indexing.html#returning-a-view-versus-a-copy\n",
      "  isetter(loc, value[:, i].tolist())\n"
     ]
    }
   ],
   "source": [
    "std = StandardScaler()\n",
    "X_train.loc[:, ['log_usd_goal', 'period']] = std.fit_transform(X_train.loc[:, ['log_usd_goal', 'period']])\n",
    "X_test.loc[:, ['log_usd_goal', 'period']] = std.transform(X_test.loc[:, ['log_usd_goal', 'period']])"
   ]
  },
  {
   "cell_type": "markdown",
   "metadata": {},
   "source": [
    "## 特徴選択\n",
    "### フィルタ法\n",
    "- 相関係数による特徴選択を検討する"
   ]
  },
  {
   "cell_type": "code",
   "execution_count": 5,
   "metadata": {},
   "outputs": [
    {
     "data": {
      "text/plain": [
       "<matplotlib.axes._subplots.AxesSubplot at 0x7fa55468ef28>"
      ]
     },
     "execution_count": 5,
     "metadata": {},
     "output_type": "execute_result"
    },
    {
     "data": {
      "image/png": "[encoded data removed]",
      "text/plain": [
       "<Figure size 1080x864 with 2 Axes>"
      ]
     },
     "metadata": {
      "needs_background": "light"
     },
     "output_type": "display_data"
    }
   ],
   "source": [
    "fig, ax = plt.subplots(1, 1, figsize=(15, 12))\n",
    "sns.heatmap(X_train.corr(), center=0, vmax=1, vmin=-1, ax=ax)"
   ]
  },
  {
   "cell_type": "code",
   "execution_count": 6,
   "metadata": {},
   "outputs": [
    {
     "data": {
      "text/plain": [
       "currency_USD  currency_CAD    0.381138\n",
       "currency_CAD  currency_USD    0.381138\n",
       "currency_EUR  currency_USD    0.410704\n",
       "currency_USD  currency_EUR    0.410704\n",
       "              currency_GBP    0.603659\n",
       "currency_GBP  currency_USD    0.603659\n",
       "dtype: float64"
      ]
     },
     "execution_count": 6,
     "metadata": {},
     "output_type": "execute_result"
    }
   ],
   "source": [
    "# 相関係数の絶対値が 0.3 以上 1.0 未満であるものを列挙\n",
    "X_corr = X_train.corr().abs()\n",
    "X_corr = X_corr.unstack()\n",
    "X_corr = X_corr.sort_values(kind=\"quicksort\")\n",
    "X_corr[(0.2 < X_corr) & (X_corr < 1)]"
   ]
  },
  {
   "cell_type": "markdown",
   "metadata": {},
   "source": [
    "最大で相関係数の絶対値が 0.6 程度であるため高いとは言えず，変数の削除の必要性はないと判断できる\n",
    "\n",
    "### ラッパー法\n",
    "- ステップワイズ法による特徴選択を行う"
   ]
  },
  {
   "cell_type": "code",
   "execution_count": 7,
   "metadata": {},
   "outputs": [],
   "source": [
    "kf = KFold(n_splits=5, shuffle=True, random_state=1234)"
   ]
  },
  {
   "cell_type": "code",
   "execution_count": 8,
   "metadata": {
    "scrolled": true
   },
   "outputs": [
    {
     "name": "stdout",
     "output_type": "stream",
     "text": [
      "Fitting estimator with 30 features.\n",
      "Fitting estimator with 29 features.\n",
      "Fitting estimator with 28 features.\n",
      "Fitting estimator with 27 features.\n",
      "Fitting estimator with 26 features.\n",
      "Fitting estimator with 25 features.\n",
      "Fitting estimator with 24 features.\n",
      "Fitting estimator with 23 features.\n",
      "Fitting estimator with 22 features.\n",
      "Fitting estimator with 21 features.\n",
      "Fitting estimator with 20 features.\n",
      "Fitting estimator with 19 features.\n",
      "Fitting estimator with 18 features.\n",
      "Fitting estimator with 17 features.\n",
      "Fitting estimator with 16 features.\n",
      "Fitting estimator with 15 features.\n",
      "Fitting estimator with 14 features.\n",
      "Fitting estimator with 13 features.\n",
      "Fitting estimator with 12 features.\n",
      "Fitting estimator with 11 features.\n",
      "Fitting estimator with 10 features.\n",
      "Fitting estimator with 9 features.\n",
      "Fitting estimator with 8 features.\n",
      "Fitting estimator with 7 features.\n",
      "Fitting estimator with 6 features.\n",
      "Fitting estimator with 5 features.\n",
      "Fitting estimator with 4 features.\n",
      "Fitting estimator with 3 features.\n",
      "Fitting estimator with 2 features.\n",
      "Fitting estimator with 30 features.\n",
      "Fitting estimator with 29 features.\n",
      "Fitting estimator with 28 features.\n",
      "Fitting estimator with 27 features.\n",
      "Fitting estimator with 26 features.\n",
      "Fitting estimator with 25 features.\n",
      "Fitting estimator with 24 features.\n",
      "Fitting estimator with 23 features.\n",
      "Fitting estimator with 22 features.\n",
      "Fitting estimator with 21 features.\n",
      "Fitting estimator with 20 features.\n",
      "Fitting estimator with 19 features.\n",
      "Fitting estimator with 18 features.\n",
      "Fitting estimator with 17 features.\n",
      "Fitting estimator with 16 features.\n",
      "Fitting estimator with 15 features.\n",
      "Fitting estimator with 14 features.\n",
      "Fitting estimator with 13 features.\n",
      "Fitting estimator with 12 features.\n",
      "Fitting estimator with 11 features.\n",
      "Fitting estimator with 10 features.\n",
      "Fitting estimator with 9 features.\n",
      "Fitting estimator with 8 features.\n",
      "Fitting estimator with 7 features.\n",
      "Fitting estimator with 6 features.\n",
      "Fitting estimator with 5 features.\n",
      "Fitting estimator with 4 features.\n",
      "Fitting estimator with 3 features.\n",
      "Fitting estimator with 2 features.\n",
      "Fitting estimator with 30 features.\n",
      "Fitting estimator with 29 features.\n",
      "Fitting estimator with 28 features.\n",
      "Fitting estimator with 27 features.\n",
      "Fitting estimator with 26 features.\n",
      "Fitting estimator with 25 features.\n",
      "Fitting estimator with 24 features.\n",
      "Fitting estimator with 23 features.\n",
      "Fitting estimator with 22 features.\n",
      "Fitting estimator with 21 features.\n",
      "Fitting estimator with 20 features.\n",
      "Fitting estimator with 19 features.\n",
      "Fitting estimator with 18 features.\n",
      "Fitting estimator with 17 features.\n",
      "Fitting estimator with 16 features.\n",
      "Fitting estimator with 15 features.\n",
      "Fitting estimator with 14 features.\n",
      "Fitting estimator with 13 features.\n",
      "Fitting estimator with 12 features.\n",
      "Fitting estimator with 11 features.\n",
      "Fitting estimator with 10 features.\n",
      "Fitting estimator with 9 features.\n",
      "Fitting estimator with 8 features.\n",
      "Fitting estimator with 7 features.\n",
      "Fitting estimator with 6 features.\n",
      "Fitting estimator with 5 features.\n",
      "Fitting estimator with 4 features.\n",
      "Fitting estimator with 3 features.\n",
      "Fitting estimator with 2 features.\n",
      "Fitting estimator with 30 features.\n",
      "Fitting estimator with 29 features.\n",
      "Fitting estimator with 28 features.\n",
      "Fitting estimator with 27 features.\n",
      "Fitting estimator with 26 features.\n",
      "Fitting estimator with 25 features.\n",
      "Fitting estimator with 24 features.\n",
      "Fitting estimator with 23 features.\n",
      "Fitting estimator with 22 features.\n",
      "Fitting estimator with 21 features.\n",
      "Fitting estimator with 20 features.\n",
      "Fitting estimator with 19 features.\n",
      "Fitting estimator with 18 features.\n",
      "Fitting estimator with 17 features.\n",
      "Fitting estimator with 16 features.\n",
      "Fitting estimator with 15 features.\n",
      "Fitting estimator with 14 features.\n",
      "Fitting estimator with 13 features.\n",
      "Fitting estimator with 12 features.\n",
      "Fitting estimator with 11 features.\n",
      "Fitting estimator with 10 features.\n",
      "Fitting estimator with 9 features.\n",
      "Fitting estimator with 8 features.\n",
      "Fitting estimator with 7 features.\n",
      "Fitting estimator with 6 features.\n",
      "Fitting estimator with 5 features.\n",
      "Fitting estimator with 4 features.\n",
      "Fitting estimator with 3 features.\n",
      "Fitting estimator with 2 features.\n",
      "Fitting estimator with 30 features.\n",
      "Fitting estimator with 29 features.\n",
      "Fitting estimator with 28 features.\n",
      "Fitting estimator with 27 features.\n",
      "Fitting estimator with 26 features.\n",
      "Fitting estimator with 25 features.\n",
      "Fitting estimator with 24 features.\n",
      "Fitting estimator with 23 features.\n",
      "Fitting estimator with 22 features.\n",
      "Fitting estimator with 21 features.\n",
      "Fitting estimator with 20 features.\n",
      "Fitting estimator with 19 features.\n",
      "Fitting estimator with 18 features.\n",
      "Fitting estimator with 17 features.\n",
      "Fitting estimator with 16 features.\n",
      "Fitting estimator with 15 features.\n",
      "Fitting estimator with 14 features.\n",
      "Fitting estimator with 13 features.\n",
      "Fitting estimator with 12 features.\n",
      "Fitting estimator with 11 features.\n",
      "Fitting estimator with 10 features.\n",
      "Fitting estimator with 9 features.\n",
      "Fitting estimator with 8 features.\n",
      "Fitting estimator with 7 features.\n",
      "Fitting estimator with 6 features.\n",
      "Fitting estimator with 5 features.\n",
      "Fitting estimator with 4 features.\n",
      "Fitting estimator with 3 features.\n",
      "Fitting estimator with 2 features.\n",
      "Fitting estimator with 30 features.\n",
      "Fitting estimator with 29 features.\n",
      "Fitting estimator with 28 features.\n",
      "Fitting estimator with 27 features.\n",
      "Fitting estimator with 26 features.\n"
     ]
    },
    {
     "data": {
      "text/plain": [
       "RFECV(cv=KFold(n_splits=5, random_state=1234, shuffle=True),\n",
       "      estimator=SGDClassifier(loss='log', max_iter=10000, random_state=1234),\n",
       "      scoring='accuracy', verbose=3)"
      ]
     },
     "execution_count": 8,
     "metadata": {},
     "output_type": "execute_result"
    }
   ],
   "source": [
    "lr_clf = SGDClassifier(loss='log', max_iter=10000, fit_intercept=True, random_state=1234, tol=1e-3)\n",
    "rfecv = RFECV(lr_clf, cv=kf, scoring='accuracy', verbose=3)\n",
    "rfecv.fit(X_train, y_train)"
   ]
  },
  {
   "cell_type": "code",
   "execution_count": 9,
   "metadata": {},
   "outputs": [
    {
     "name": "stdout",
     "output_type": "stream",
     "text": [
      "Feature ranking: \n",
      "[1 1 1 1 1 1 1 1 1 1 1 1 1 1 1 1 1 5 1 1 2 1 1 6 1 1 4 3 1 1]\n"
     ]
    }
   ],
   "source": [
    "# 特徴のランキングを表示（1が最も重要な特徴）\n",
    "print('Feature ranking: \\n{}'.format(rfecv.ranking_))"
   ]
  },
  {
   "cell_type": "code",
   "execution_count": 10,
   "metadata": {},
   "outputs": [
    {
     "name": "stdout",
     "output_type": "stream",
     "text": [
      "正解率: 0.647\n",
      "Precision: 0.565\n",
      "Recall: 0.545\n",
      "F1: 0.555\n"
     ]
    }
   ],
   "source": [
    "y_pred = rfecv.predict(X_test)\n",
    "\n",
    "acc = accuracy_score(y_test, y_pred)\n",
    "precision = precision_score(y_test, y_pred)\n",
    "recall = recall_score(y_test, y_pred)\n",
    "f_1 = f1_score(y_test, y_pred)\n",
    "\n",
    "print(f'正解率: {acc:.3}')\n",
    "print(f'Precision: {precision:.3}')\n",
    "print(f'Recall: {recall:.3}')\n",
    "print(f'F1: {f_1:.3}')"
   ]
  },
  {
   "cell_type": "markdown",
   "metadata": {},
   "source": [
    "線形モデルに対しては特徴選択は効果が薄い．\n",
    "\n",
    "### 埋め込み法\n",
    "- L_1 正則化によって特徴選択を行う"
   ]
  },
  {
   "cell_type": "code",
   "execution_count": 11,
   "metadata": {},
   "outputs": [
    {
     "name": "stdout",
     "output_type": "stream",
     "text": [
      "[LibLinear]"
     ]
    },
    {
     "name": "stderr",
     "output_type": "stream",
     "text": [
      "[Parallel(n_jobs=1)]: Using backend SequentialBackend with 1 concurrent workers.\n"
     ]
    },
    {
     "name": "stdout",
     "output_type": "stream",
     "text": [
      "[LibLinear][LibLinear][LibLinear][LibLinear][LibLinear][LibLinear][LibLinear][LibLinear][LibLinear]"
     ]
    },
    {
     "name": "stderr",
     "output_type": "stream",
     "text": [
      "[Parallel(n_jobs=1)]: Done   1 out of   1 | elapsed:   11.0s remaining:    0.0s\n"
     ]
    },
    {
     "name": "stdout",
     "output_type": "stream",
     "text": [
      "[LibLinear][LibLinear][LibLinear][LibLinear][LibLinear][LibLinear][LibLinear][LibLinear][LibLinear][LibLinear]"
     ]
    },
    {
     "name": "stderr",
     "output_type": "stream",
     "text": [
      "[Parallel(n_jobs=1)]: Done   2 out of   2 | elapsed:   21.4s remaining:    0.0s\n"
     ]
    },
    {
     "name": "stdout",
     "output_type": "stream",
     "text": [
      "[LibLinear][LibLinear][LibLinear][LibLinear][LibLinear][LibLinear][LibLinear][LibLinear][LibLinear][LibLinear][LibLinear][LibLinear][LibLinear][LibLinear][LibLinear][LibLinear][LibLinear][LibLinear][LibLinear][LibLinear][LibLinear][LibLinear][LibLinear][LibLinear][LibLinear][LibLinear][LibLinear][LibLinear][LibLinear][LibLinear]"
     ]
    },
    {
     "name": "stderr",
     "output_type": "stream",
     "text": [
      "[Parallel(n_jobs=1)]: Done   5 out of   5 | elapsed:   50.5s finished\n"
     ]
    },
    {
     "name": "stdout",
     "output_type": "stream",
     "text": [
      "[LibLinear]"
     ]
    },
    {
     "data": {
      "text/plain": [
       "SelectFromModel(estimator=LogisticRegressionCV(cv=KFold(n_splits=5, random_state=1234, shuffle=True),\n",
       "                                               max_iter=10000, penalty='l1',\n",
       "                                               random_state=1234,\n",
       "                                               solver='liblinear', tol=0.001,\n",
       "                                               verbose=3),\n",
       "                threshold=1e-05)"
      ]
     },
     "execution_count": 11,
     "metadata": {},
     "output_type": "execute_result"
    }
   ],
   "source": [
    "lr_cv = LogisticRegressionCV(penalty='l1', solver='liblinear', cv=kf, max_iter=10000, random_state=1234, tol=1e-3, verbose=3)\n",
    "sfm = SelectFromModel(lr_cv, threshold=1e-5)\n",
    "sfm.fit(X_train, y_train)"
   ]
  },
  {
   "cell_type": "code",
   "execution_count": 12,
   "metadata": {},
   "outputs": [],
   "source": [
    "X_train_l1 = X_train.loc[:, sfm.get_support()]\n",
    "X_test_l1 = X_test.loc[:, sfm.get_support()]"
   ]
  },
  {
   "cell_type": "code",
   "execution_count": 13,
   "metadata": {},
   "outputs": [
    {
     "name": "stdout",
     "output_type": "stream",
     "text": [
      "正解率: 0.647\n",
      "Precision: 0.565\n",
      "Recall: 0.545\n",
      "F1: 0.555\n"
     ]
    }
   ],
   "source": [
    "lr_clf = SGDClassifier(loss='log', max_iter=10000, fit_intercept=True, random_state=1234, tol=1e-3)\n",
    "lr_clf.fit(X_train_l1, y_train)\n",
    "\n",
    "y_pred = lr_clf.predict(X_test_l1)\n",
    "\n",
    "acc = accuracy_score(y_test, y_pred)\n",
    "precision = precision_score(y_test, y_pred)\n",
    "recall = recall_score(y_test, y_pred)\n",
    "f_1 = f1_score(y_test, y_pred)\n",
    "\n",
    "print(f'正解率: {acc:.3}')\n",
    "print(f'Precision: {precision:.3}')\n",
    "print(f'Recall: {recall:.3}')\n",
    "print(f'F1: {f_1:.3}')"
   ]
  },
  {
   "cell_type": "markdown",
   "metadata": {},
   "source": [
    "線形モデルに対しては特徴選択は効果が薄い．\n",
    "\n",
    "##  木モデルの利用\n",
    "### 決定木\n",
    "以下をチューニングしつつ学習\n",
    "- max_depth: 木の深さの最大値\n",
    "- min_samples_leaf: 1つのノードに許される最小サンプルサイズ"
   ]
  },
  {
   "cell_type": "code",
   "execution_count": 14,
   "metadata": {
    "scrolled": true
   },
   "outputs": [
    {
     "name": "stdout",
     "output_type": "stream",
     "text": [
      "Fitting 5 folds for each of 20 candidates, totalling 100 fits\n",
      "[CV] max_depth=10, min_samples_leaf=1 ................................\n"
     ]
    },
    {
     "name": "stderr",
     "output_type": "stream",
     "text": [
      "[Parallel(n_jobs=1)]: Using backend SequentialBackend with 1 concurrent workers.\n"
     ]
    },
    {
     "name": "stdout",
     "output_type": "stream",
     "text": [
      "[CV] .... max_depth=10, min_samples_leaf=1, score=0.655, total=   0.7s\n",
      "[CV] max_depth=10, min_samples_leaf=1 ................................\n"
     ]
    },
    {
     "name": "stderr",
     "output_type": "stream",
     "text": [
      "[Parallel(n_jobs=1)]: Done   1 out of   1 | elapsed:    0.7s remaining:    0.0s\n"
     ]
    },
    {
     "name": "stdout",
     "output_type": "stream",
     "text": [
      "[CV] .... max_depth=10, min_samples_leaf=1, score=0.653, total=   0.7s\n",
      "[CV] max_depth=10, min_samples_leaf=1 ................................\n"
     ]
    },
    {
     "name": "stderr",
     "output_type": "stream",
     "text": [
      "[Parallel(n_jobs=1)]: Done   2 out of   2 | elapsed:    1.4s remaining:    0.0s\n"
     ]
    },
    {
     "name": "stdout",
     "output_type": "stream",
     "text": [
      "[CV] .... max_depth=10, min_samples_leaf=1, score=0.657, total=   0.7s\n",
      "[CV] max_depth=10, min_samples_leaf=1 ................................\n",
      "[CV] .... max_depth=10, min_samples_leaf=1, score=0.655, total=   0.7s\n",
      "[CV] max_depth=10, min_samples_leaf=1 ................................\n",
      "[CV] .... max_depth=10, min_samples_leaf=1, score=0.652, total=   0.7s\n",
      "[CV] max_depth=10, min_samples_leaf=2 ................................\n",
      "[CV] .... max_depth=10, min_samples_leaf=2, score=0.655, total=   0.7s\n",
      "[CV] max_depth=10, min_samples_leaf=2 ................................\n",
      "[CV] .... max_depth=10, min_samples_leaf=2, score=0.654, total=   0.7s\n",
      "[CV] max_depth=10, min_samples_leaf=2 ................................\n",
      "[CV] .... max_depth=10, min_samples_leaf=2, score=0.657, total=   0.7s\n",
      "[CV] max_depth=10, min_samples_leaf=2 ................................\n",
      "[CV] .... max_depth=10, min_samples_leaf=2, score=0.655, total=   0.7s\n",
      "[CV] max_depth=10, min_samples_leaf=2 ................................\n",
      "[CV] .... max_depth=10, min_samples_leaf=2, score=0.652, total=   0.7s\n",
      "[CV] max_depth=10, min_samples_leaf=3 ................................\n",
      "[CV] .... max_depth=10, min_samples_leaf=3, score=0.655, total=   0.7s\n",
      "[CV] max_depth=10, min_samples_leaf=3 ................................\n",
      "[CV] .... max_depth=10, min_samples_leaf=3, score=0.653, total=   0.7s\n",
      "[CV] max_depth=10, min_samples_leaf=3 ................................\n",
      "[CV] .... max_depth=10, min_samples_leaf=3, score=0.657, total=   0.7s\n",
      "[CV] max_depth=10, min_samples_leaf=3 ................................\n",
      "[CV] .... max_depth=10, min_samples_leaf=3, score=0.655, total=   0.7s\n",
      "[CV] max_depth=10, min_samples_leaf=3 ................................\n",
      "[CV] .... max_depth=10, min_samples_leaf=3, score=0.653, total=   0.7s\n",
      "[CV] max_depth=10, min_samples_leaf=4 ................................\n",
      "[CV] .... max_depth=10, min_samples_leaf=4, score=0.655, total=   0.7s\n",
      "[CV] max_depth=10, min_samples_leaf=4 ................................\n",
      "[CV] .... max_depth=10, min_samples_leaf=4, score=0.653, total=   0.7s\n",
      "[CV] max_depth=10, min_samples_leaf=4 ................................\n",
      "[CV] .... max_depth=10, min_samples_leaf=4, score=0.658, total=   0.7s\n",
      "[CV] max_depth=10, min_samples_leaf=4 ................................\n",
      "[CV] .... max_depth=10, min_samples_leaf=4, score=0.655, total=   0.7s\n",
      "[CV] max_depth=10, min_samples_leaf=4 ................................\n",
      "[CV] .... max_depth=10, min_samples_leaf=4, score=0.653, total=   0.7s\n",
      "[CV] max_depth=11, min_samples_leaf=1 ................................\n",
      "[CV] .... max_depth=11, min_samples_leaf=1, score=0.660, total=   0.7s\n",
      "[CV] max_depth=11, min_samples_leaf=1 ................................\n",
      "[CV] .... max_depth=11, min_samples_leaf=1, score=0.656, total=   0.7s\n",
      "[CV] max_depth=11, min_samples_leaf=1 ................................\n",
      "[CV] .... max_depth=11, min_samples_leaf=1, score=0.660, total=   0.7s\n",
      "[CV] max_depth=11, min_samples_leaf=1 ................................\n",
      "[CV] .... max_depth=11, min_samples_leaf=1, score=0.658, total=   0.7s\n",
      "[CV] max_depth=11, min_samples_leaf=1 ................................\n",
      "[CV] .... max_depth=11, min_samples_leaf=1, score=0.654, total=   0.7s\n",
      "[CV] max_depth=11, min_samples_leaf=2 ................................\n",
      "[CV] .... max_depth=11, min_samples_leaf=2, score=0.659, total=   0.7s\n",
      "[CV] max_depth=11, min_samples_leaf=2 ................................\n",
      "[CV] .... max_depth=11, min_samples_leaf=2, score=0.656, total=   0.7s\n",
      "[CV] max_depth=11, min_samples_leaf=2 ................................\n",
      "[CV] .... max_depth=11, min_samples_leaf=2, score=0.660, total=   0.7s\n",
      "[CV] max_depth=11, min_samples_leaf=2 ................................\n",
      "[CV] .... max_depth=11, min_samples_leaf=2, score=0.658, total=   0.7s\n",
      "[CV] max_depth=11, min_samples_leaf=2 ................................\n",
      "[CV] .... max_depth=11, min_samples_leaf=2, score=0.654, total=   0.7s\n",
      "[CV] max_depth=11, min_samples_leaf=3 ................................\n",
      "[CV] .... max_depth=11, min_samples_leaf=3, score=0.659, total=   0.7s\n",
      "[CV] max_depth=11, min_samples_leaf=3 ................................\n",
      "[CV] .... max_depth=11, min_samples_leaf=3, score=0.655, total=   0.7s\n",
      "[CV] max_depth=11, min_samples_leaf=3 ................................\n",
      "[CV] .... max_depth=11, min_samples_leaf=3, score=0.660, total=   0.7s\n",
      "[CV] max_depth=11, min_samples_leaf=3 ................................\n",
      "[CV] .... max_depth=11, min_samples_leaf=3, score=0.658, total=   0.7s\n",
      "[CV] max_depth=11, min_samples_leaf=3 ................................\n",
      "[CV] .... max_depth=11, min_samples_leaf=3, score=0.654, total=   0.7s\n",
      "[CV] max_depth=11, min_samples_leaf=4 ................................\n",
      "[CV] .... max_depth=11, min_samples_leaf=4, score=0.660, total=   0.7s\n",
      "[CV] max_depth=11, min_samples_leaf=4 ................................\n",
      "[CV] .... max_depth=11, min_samples_leaf=4, score=0.656, total=   0.7s\n",
      "[CV] max_depth=11, min_samples_leaf=4 ................................\n",
      "[CV] .... max_depth=11, min_samples_leaf=4, score=0.659, total=   0.7s\n",
      "[CV] max_depth=11, min_samples_leaf=4 ................................\n",
      "[CV] .... max_depth=11, min_samples_leaf=4, score=0.658, total=   0.7s\n",
      "[CV] max_depth=11, min_samples_leaf=4 ................................\n",
      "[CV] .... max_depth=11, min_samples_leaf=4, score=0.654, total=   0.8s\n",
      "[CV] max_depth=12, min_samples_leaf=1 ................................\n",
      "[CV] .... max_depth=12, min_samples_leaf=1, score=0.661, total=   0.8s\n",
      "[CV] max_depth=12, min_samples_leaf=1 ................................\n",
      "[CV] .... max_depth=12, min_samples_leaf=1, score=0.659, total=   0.8s\n",
      "[CV] max_depth=12, min_samples_leaf=1 ................................\n",
      "[CV] .... max_depth=12, min_samples_leaf=1, score=0.659, total=   0.8s\n",
      "[CV] max_depth=12, min_samples_leaf=1 ................................\n",
      "[CV] .... max_depth=12, min_samples_leaf=1, score=0.659, total=   0.8s\n",
      "[CV] max_depth=12, min_samples_leaf=1 ................................\n",
      "[CV] .... max_depth=12, min_samples_leaf=1, score=0.654, total=   0.8s\n",
      "[CV] max_depth=12, min_samples_leaf=2 ................................\n",
      "[CV] .... max_depth=12, min_samples_leaf=2, score=0.660, total=   0.8s\n",
      "[CV] max_depth=12, min_samples_leaf=2 ................................\n",
      "[CV] .... max_depth=12, min_samples_leaf=2, score=0.659, total=   0.8s\n",
      "[CV] max_depth=12, min_samples_leaf=2 ................................\n",
      "[CV] .... max_depth=12, min_samples_leaf=2, score=0.659, total=   0.8s\n",
      "[CV] max_depth=12, min_samples_leaf=2 ................................\n",
      "[CV] .... max_depth=12, min_samples_leaf=2, score=0.660, total=   0.8s\n",
      "[CV] max_depth=12, min_samples_leaf=2 ................................\n",
      "[CV] .... max_depth=12, min_samples_leaf=2, score=0.654, total=   0.8s\n",
      "[CV] max_depth=12, min_samples_leaf=3 ................................\n",
      "[CV] .... max_depth=12, min_samples_leaf=3, score=0.660, total=   0.8s\n",
      "[CV] max_depth=12, min_samples_leaf=3 ................................\n",
      "[CV] .... max_depth=12, min_samples_leaf=3, score=0.659, total=   0.8s\n",
      "[CV] max_depth=12, min_samples_leaf=3 ................................\n",
      "[CV] .... max_depth=12, min_samples_leaf=3, score=0.659, total=   0.8s\n",
      "[CV] max_depth=12, min_samples_leaf=3 ................................\n",
      "[CV] .... max_depth=12, min_samples_leaf=3, score=0.659, total=   0.8s\n",
      "[CV] max_depth=12, min_samples_leaf=3 ................................\n",
      "[CV] .... max_depth=12, min_samples_leaf=3, score=0.655, total=   0.7s\n",
      "[CV] max_depth=12, min_samples_leaf=4 ................................\n",
      "[CV] .... max_depth=12, min_samples_leaf=4, score=0.661, total=   0.7s\n",
      "[CV] max_depth=12, min_samples_leaf=4 ................................\n",
      "[CV] .... max_depth=12, min_samples_leaf=4, score=0.659, total=   0.7s\n",
      "[CV] max_depth=12, min_samples_leaf=4 ................................\n",
      "[CV] .... max_depth=12, min_samples_leaf=4, score=0.659, total=   0.8s\n",
      "[CV] max_depth=12, min_samples_leaf=4 ................................\n",
      "[CV] .... max_depth=12, min_samples_leaf=4, score=0.659, total=   0.8s\n",
      "[CV] max_depth=12, min_samples_leaf=4 ................................\n",
      "[CV] .... max_depth=12, min_samples_leaf=4, score=0.655, total=   0.8s\n",
      "[CV] max_depth=13, min_samples_leaf=1 ................................\n"
     ]
    },
    {
     "name": "stdout",
     "output_type": "stream",
     "text": [
      "[CV] .... max_depth=13, min_samples_leaf=1, score=0.658, total=   0.9s\n",
      "[CV] max_depth=13, min_samples_leaf=1 ................................\n",
      "[CV] .... max_depth=13, min_samples_leaf=1, score=0.658, total=   0.8s\n",
      "[CV] max_depth=13, min_samples_leaf=1 ................................\n",
      "[CV] .... max_depth=13, min_samples_leaf=1, score=0.659, total=   0.8s\n",
      "[CV] max_depth=13, min_samples_leaf=1 ................................\n",
      "[CV] .... max_depth=13, min_samples_leaf=1, score=0.660, total=   0.8s\n",
      "[CV] max_depth=13, min_samples_leaf=1 ................................\n",
      "[CV] .... max_depth=13, min_samples_leaf=1, score=0.657, total=   0.8s\n",
      "[CV] max_depth=13, min_samples_leaf=2 ................................\n",
      "[CV] .... max_depth=13, min_samples_leaf=2, score=0.658, total=   0.8s\n",
      "[CV] max_depth=13, min_samples_leaf=2 ................................\n",
      "[CV] .... max_depth=13, min_samples_leaf=2, score=0.657, total=   0.8s\n",
      "[CV] max_depth=13, min_samples_leaf=2 ................................\n",
      "[CV] .... max_depth=13, min_samples_leaf=2, score=0.659, total=   0.8s\n",
      "[CV] max_depth=13, min_samples_leaf=2 ................................\n",
      "[CV] .... max_depth=13, min_samples_leaf=2, score=0.661, total=   0.8s\n",
      "[CV] max_depth=13, min_samples_leaf=2 ................................\n",
      "[CV] .... max_depth=13, min_samples_leaf=2, score=0.658, total=   0.8s\n",
      "[CV] max_depth=13, min_samples_leaf=3 ................................\n",
      "[CV] .... max_depth=13, min_samples_leaf=3, score=0.658, total=   0.8s\n",
      "[CV] max_depth=13, min_samples_leaf=3 ................................\n",
      "[CV] .... max_depth=13, min_samples_leaf=3, score=0.657, total=   0.8s\n",
      "[CV] max_depth=13, min_samples_leaf=3 ................................\n",
      "[CV] .... max_depth=13, min_samples_leaf=3, score=0.658, total=   0.8s\n",
      "[CV] max_depth=13, min_samples_leaf=3 ................................\n",
      "[CV] .... max_depth=13, min_samples_leaf=3, score=0.659, total=   0.8s\n",
      "[CV] max_depth=13, min_samples_leaf=3 ................................\n",
      "[CV] .... max_depth=13, min_samples_leaf=3, score=0.658, total=   0.8s\n",
      "[CV] max_depth=13, min_samples_leaf=4 ................................\n",
      "[CV] .... max_depth=13, min_samples_leaf=4, score=0.658, total=   0.8s\n",
      "[CV] max_depth=13, min_samples_leaf=4 ................................\n",
      "[CV] .... max_depth=13, min_samples_leaf=4, score=0.658, total=   0.8s\n",
      "[CV] max_depth=13, min_samples_leaf=4 ................................\n",
      "[CV] .... max_depth=13, min_samples_leaf=4, score=0.658, total=   0.8s\n",
      "[CV] max_depth=13, min_samples_leaf=4 ................................\n",
      "[CV] .... max_depth=13, min_samples_leaf=4, score=0.659, total=   0.8s\n",
      "[CV] max_depth=13, min_samples_leaf=4 ................................\n",
      "[CV] .... max_depth=13, min_samples_leaf=4, score=0.658, total=   0.8s\n",
      "[CV] max_depth=14, min_samples_leaf=1 ................................\n",
      "[CV] .... max_depth=14, min_samples_leaf=1, score=0.657, total=   0.8s\n",
      "[CV] max_depth=14, min_samples_leaf=1 ................................\n",
      "[CV] .... max_depth=14, min_samples_leaf=1, score=0.657, total=   0.8s\n",
      "[CV] max_depth=14, min_samples_leaf=1 ................................\n",
      "[CV] .... max_depth=14, min_samples_leaf=1, score=0.655, total=   0.8s\n",
      "[CV] max_depth=14, min_samples_leaf=1 ................................\n",
      "[CV] .... max_depth=14, min_samples_leaf=1, score=0.657, total=   0.8s\n",
      "[CV] max_depth=14, min_samples_leaf=1 ................................\n",
      "[CV] .... max_depth=14, min_samples_leaf=1, score=0.658, total=   0.9s\n",
      "[CV] max_depth=14, min_samples_leaf=2 ................................\n",
      "[CV] .... max_depth=14, min_samples_leaf=2, score=0.657, total=   0.9s\n",
      "[CV] max_depth=14, min_samples_leaf=2 ................................\n",
      "[CV] .... max_depth=14, min_samples_leaf=2, score=0.657, total=   0.9s\n",
      "[CV] max_depth=14, min_samples_leaf=2 ................................\n",
      "[CV] .... max_depth=14, min_samples_leaf=2, score=0.655, total=   0.8s\n",
      "[CV] max_depth=14, min_samples_leaf=2 ................................\n",
      "[CV] .... max_depth=14, min_samples_leaf=2, score=0.658, total=   0.8s\n",
      "[CV] max_depth=14, min_samples_leaf=2 ................................\n",
      "[CV] .... max_depth=14, min_samples_leaf=2, score=0.659, total=   0.8s\n",
      "[CV] max_depth=14, min_samples_leaf=3 ................................\n",
      "[CV] .... max_depth=14, min_samples_leaf=3, score=0.657, total=   0.8s\n",
      "[CV] max_depth=14, min_samples_leaf=3 ................................\n",
      "[CV] .... max_depth=14, min_samples_leaf=3, score=0.656, total=   0.9s\n",
      "[CV] max_depth=14, min_samples_leaf=3 ................................\n",
      "[CV] .... max_depth=14, min_samples_leaf=3, score=0.655, total=   0.8s\n",
      "[CV] max_depth=14, min_samples_leaf=3 ................................\n",
      "[CV] .... max_depth=14, min_samples_leaf=3, score=0.658, total=   0.8s\n",
      "[CV] max_depth=14, min_samples_leaf=3 ................................\n",
      "[CV] .... max_depth=14, min_samples_leaf=3, score=0.658, total=   0.9s\n",
      "[CV] max_depth=14, min_samples_leaf=4 ................................\n",
      "[CV] .... max_depth=14, min_samples_leaf=4, score=0.658, total=   0.8s\n",
      "[CV] max_depth=14, min_samples_leaf=4 ................................\n",
      "[CV] .... max_depth=14, min_samples_leaf=4, score=0.657, total=   0.9s\n",
      "[CV] max_depth=14, min_samples_leaf=4 ................................\n",
      "[CV] .... max_depth=14, min_samples_leaf=4, score=0.656, total=   0.8s\n",
      "[CV] max_depth=14, min_samples_leaf=4 ................................\n",
      "[CV] .... max_depth=14, min_samples_leaf=4, score=0.657, total=   0.8s\n",
      "[CV] max_depth=14, min_samples_leaf=4 ................................\n",
      "[CV] .... max_depth=14, min_samples_leaf=4, score=0.658, total=   0.8s\n"
     ]
    },
    {
     "name": "stderr",
     "output_type": "stream",
     "text": [
      "[Parallel(n_jobs=1)]: Done 100 out of 100 | elapsed:  1.3min finished\n"
     ]
    },
    {
     "data": {
      "text/plain": [
       "GridSearchCV(cv=KFold(n_splits=5, random_state=1234, shuffle=True),\n",
       "             estimator=DecisionTreeClassifier(criterion='entropy',\n",
       "                                              random_state=1234),\n",
       "             param_grid={'max_depth': range(10, 15),\n",
       "                         'min_samples_leaf': range(1, 5)},\n",
       "             scoring='accuracy', verbose=3)"
      ]
     },
     "execution_count": 14,
     "metadata": {},
     "output_type": "execute_result"
    }
   ],
   "source": [
    "parameters = {'max_depth': range(10, 15), 'min_samples_leaf': range(1, 5)}\n",
    "\n",
    "dtc = DecisionTreeClassifier(criterion='entropy', random_state=1234)\n",
    "grid = GridSearchCV(dtc, param_grid=parameters, \n",
    "                         cv=kf, \n",
    "                         scoring='accuracy', \n",
    "                         verbose=3) \n",
    "\n",
    "grid.fit(X_train, y_train)"
   ]
  },
  {
   "cell_type": "code",
   "execution_count": 15,
   "metadata": {},
   "outputs": [
    {
     "name": "stdout",
     "output_type": "stream",
     "text": [
      "正解率: 0.658\n",
      "Precision: 0.602\n",
      "Recall: 0.455\n",
      "F1: 0.518\n"
     ]
    }
   ],
   "source": [
    "y_pred = grid.predict(X_test)\n",
    "\n",
    "acc = accuracy_score(y_test, y_pred)\n",
    "precision = precision_score(y_test, y_pred)\n",
    "recall = recall_score(y_test, y_pred)\n",
    "f_1 = f1_score(y_test, y_pred)\n",
    "\n",
    "print(f'正解率: {acc:.3}')\n",
    "print(f'Precision: {precision:.3}')\n",
    "print(f'Recall: {recall:.3}')\n",
    "print(f'F1: {f_1:.3}')"
   ]
  },
  {
   "cell_type": "code",
   "execution_count": 16,
   "metadata": {},
   "outputs": [
    {
     "data": {
      "text/plain": [
       "DecisionTreeClassifier(criterion='entropy', max_depth=13, min_samples_leaf=2,\n",
       "                       random_state=1234)"
      ]
     },
     "execution_count": 16,
     "metadata": {},
     "output_type": "execute_result"
    }
   ],
   "source": [
    "grid.best_estimator_"
   ]
  },
  {
   "cell_type": "markdown",
   "metadata": {},
   "source": [
    "通常のロジスティック回帰にくらべて性能は良くなった\n",
    "\n",
    "### ランダムフォレスト\n",
    "以下をチューニングしつつ学習．実行に30分ほどかかるので注意する\n",
    "- n_estimators: 弱学習器の数"
   ]
  },
  {
   "cell_type": "code",
   "execution_count": 17,
   "metadata": {
    "scrolled": false
   },
   "outputs": [
    {
     "name": "stdout",
     "output_type": "stream",
     "text": [
      "Fitting 5 folds for each of 5 candidates, totalling 25 fits\n",
      "[CV] n_estimators=50 .................................................\n"
     ]
    },
    {
     "name": "stderr",
     "output_type": "stream",
     "text": [
      "[Parallel(n_jobs=1)]: Using backend SequentialBackend with 1 concurrent workers.\n"
     ]
    },
    {
     "name": "stdout",
     "output_type": "stream",
     "text": [
      "[CV] ..................... n_estimators=50, score=0.630, total=  12.2s\n",
      "[CV] n_estimators=50 .................................................\n"
     ]
    },
    {
     "name": "stderr",
     "output_type": "stream",
     "text": [
      "[Parallel(n_jobs=1)]: Done   1 out of   1 | elapsed:   12.3s remaining:    0.0s\n"
     ]
    },
    {
     "name": "stdout",
     "output_type": "stream",
     "text": [
      "[CV] ..................... n_estimators=50, score=0.633, total=  12.1s\n",
      "[CV] n_estimators=50 .................................................\n"
     ]
    },
    {
     "name": "stderr",
     "output_type": "stream",
     "text": [
      "[Parallel(n_jobs=1)]: Done   2 out of   2 | elapsed:   24.4s remaining:    0.0s\n"
     ]
    },
    {
     "name": "stdout",
     "output_type": "stream",
     "text": [
      "[CV] ..................... n_estimators=50, score=0.632, total=  11.8s\n",
      "[CV] n_estimators=50 .................................................\n",
      "[CV] ..................... n_estimators=50, score=0.635, total=  12.8s\n",
      "[CV] n_estimators=50 .................................................\n",
      "[CV] ..................... n_estimators=50, score=0.634, total=  13.3s\n",
      "[CV] n_estimators=60 .................................................\n",
      "[CV] ..................... n_estimators=60, score=0.631, total=  15.8s\n",
      "[CV] n_estimators=60 .................................................\n",
      "[CV] ..................... n_estimators=60, score=0.633, total=  14.5s\n",
      "[CV] n_estimators=60 .................................................\n",
      "[CV] ..................... n_estimators=60, score=0.633, total=  14.5s\n",
      "[CV] n_estimators=60 .................................................\n",
      "[CV] ..................... n_estimators=60, score=0.635, total=  15.2s\n",
      "[CV] n_estimators=60 .................................................\n",
      "[CV] ..................... n_estimators=60, score=0.635, total=  15.2s\n",
      "[CV] n_estimators=70 .................................................\n",
      "[CV] ..................... n_estimators=70, score=0.631, total=  18.2s\n",
      "[CV] n_estimators=70 .................................................\n",
      "[CV] ..................... n_estimators=70, score=0.634, total=  17.0s\n",
      "[CV] n_estimators=70 .................................................\n",
      "[CV] ..................... n_estimators=70, score=0.633, total=  16.9s\n",
      "[CV] n_estimators=70 .................................................\n",
      "[CV] ..................... n_estimators=70, score=0.636, total=  16.9s\n",
      "[CV] n_estimators=70 .................................................\n",
      "[CV] ..................... n_estimators=70, score=0.635, total=  16.7s\n",
      "[CV] n_estimators=80 .................................................\n",
      "[CV] ..................... n_estimators=80, score=0.630, total=  19.7s\n",
      "[CV] n_estimators=80 .................................................\n",
      "[CV] ..................... n_estimators=80, score=0.634, total=  19.6s\n",
      "[CV] n_estimators=80 .................................................\n",
      "[CV] ..................... n_estimators=80, score=0.633, total=  19.5s\n",
      "[CV] n_estimators=80 .................................................\n",
      "[CV] ..................... n_estimators=80, score=0.636, total=  19.3s\n",
      "[CV] n_estimators=80 .................................................\n",
      "[CV] ..................... n_estimators=80, score=0.636, total=  19.2s\n",
      "[CV] n_estimators=90 .................................................\n",
      "[CV] ..................... n_estimators=90, score=0.631, total=  21.7s\n",
      "[CV] n_estimators=90 .................................................\n",
      "[CV] ..................... n_estimators=90, score=0.633, total=  21.8s\n",
      "[CV] n_estimators=90 .................................................\n",
      "[CV] ..................... n_estimators=90, score=0.633, total=  21.6s\n",
      "[CV] n_estimators=90 .................................................\n",
      "[CV] ..................... n_estimators=90, score=0.635, total=  23.0s\n",
      "[CV] n_estimators=90 .................................................\n",
      "[CV] ..................... n_estimators=90, score=0.635, total=  21.6s\n"
     ]
    },
    {
     "name": "stderr",
     "output_type": "stream",
     "text": [
      "[Parallel(n_jobs=1)]: Done  25 out of  25 | elapsed:  7.2min finished\n"
     ]
    },
    {
     "data": {
      "text/plain": [
       "GridSearchCV(cv=KFold(n_splits=5, random_state=1234, shuffle=True),\n",
       "             estimator=RandomForestClassifier(criterion='entropy',\n",
       "                                              random_state=1234),\n",
       "             param_grid={'n_estimators': range(50, 100, 10)},\n",
       "             scoring='accuracy', verbose=3)"
      ]
     },
     "execution_count": 17,
     "metadata": {},
     "output_type": "execute_result"
    }
   ],
   "source": [
    "parameters = {'n_estimators': range(50, 100, 10)}\n",
    "\n",
    "rfc = RandomForestClassifier(criterion='entropy', random_state=1234)\n",
    "grid = GridSearchCV(rfc, param_grid=parameters, \n",
    "                         cv=kf, \n",
    "                         scoring='accuracy', \n",
    "                         verbose=3) \n",
    "\n",
    "grid.fit(X_train, y_train)"
   ]
  },
  {
   "cell_type": "code",
   "execution_count": 18,
   "metadata": {},
   "outputs": [
    {
     "name": "stdout",
     "output_type": "stream",
     "text": [
      "正解率: 0.63\n",
      "Precision: 0.548\n",
      "Recall: 0.475\n",
      "F1: 0.509\n"
     ]
    }
   ],
   "source": [
    "y_pred = grid.predict(X_test)\n",
    "\n",
    "acc = accuracy_score(y_test, y_pred)\n",
    "precision = precision_score(y_test, y_pred)\n",
    "recall = recall_score(y_test, y_pred)\n",
    "f_1 = f1_score(y_test, y_pred)\n",
    "\n",
    "print(f'正解率: {acc:.3}')\n",
    "print(f'Precision: {precision:.3}')\n",
    "print(f'Recall: {recall:.3}')\n",
    "print(f'F1: {f_1:.3}')"
   ]
  },
  {
   "cell_type": "code",
   "execution_count": 19,
   "metadata": {},
   "outputs": [
    {
     "data": {
      "text/plain": [
       "RandomForestClassifier(criterion='entropy', n_estimators=70, random_state=1234)"
      ]
     },
     "execution_count": 19,
     "metadata": {},
     "output_type": "execute_result"
    }
   ],
   "source": [
    "grid.best_estimator_"
   ]
  },
  {
   "cell_type": "markdown",
   "metadata": {},
   "source": [
    "- 決定木より精度が落ちてしまった\n",
    "- CV のスコアを見る限り，`n_estimators`に対してロバストであると推察できる\n",
    "\n",
    "### アダブースト\n",
    "決定木を弱学習器としたアダブーストを，以下をチューニングしながら学習\n",
    "- n_estimators: 弱学習器の数"
   ]
  },
  {
   "cell_type": "code",
   "execution_count": 20,
   "metadata": {
    "scrolled": true
   },
   "outputs": [
    {
     "name": "stdout",
     "output_type": "stream",
     "text": [
      "Fitting 5 folds for each of 5 candidates, totalling 25 fits\n",
      "[CV] n_estimators=50 .................................................\n"
     ]
    },
    {
     "name": "stderr",
     "output_type": "stream",
     "text": [
      "[Parallel(n_jobs=1)]: Using backend SequentialBackend with 1 concurrent workers.\n"
     ]
    },
    {
     "name": "stdout",
     "output_type": "stream",
     "text": [
      "[CV] ..................... n_estimators=50, score=0.664, total=   5.1s\n",
      "[CV] n_estimators=50 .................................................\n"
     ]
    },
    {
     "name": "stderr",
     "output_type": "stream",
     "text": [
      "[Parallel(n_jobs=1)]: Done   1 out of   1 | elapsed:    5.1s remaining:    0.0s\n"
     ]
    },
    {
     "name": "stdout",
     "output_type": "stream",
     "text": [
      "[CV] ..................... n_estimators=50, score=0.666, total=   5.8s\n",
      "[CV] n_estimators=50 .................................................\n"
     ]
    },
    {
     "name": "stderr",
     "output_type": "stream",
     "text": [
      "[Parallel(n_jobs=1)]: Done   2 out of   2 | elapsed:   10.9s remaining:    0.0s\n"
     ]
    },
    {
     "name": "stdout",
     "output_type": "stream",
     "text": [
      "[CV] ..................... n_estimators=50, score=0.666, total=   5.4s\n",
      "[CV] n_estimators=50 .................................................\n",
      "[CV] ..................... n_estimators=50, score=0.662, total=   5.0s\n",
      "[CV] n_estimators=50 .................................................\n",
      "[CV] ..................... n_estimators=50, score=0.666, total=   5.0s\n",
      "[CV] n_estimators=60 .................................................\n",
      "[CV] ..................... n_estimators=60, score=0.664, total=   6.2s\n",
      "[CV] n_estimators=60 .................................................\n",
      "[CV] ..................... n_estimators=60, score=0.667, total=   6.1s\n",
      "[CV] n_estimators=60 .................................................\n",
      "[CV] ..................... n_estimators=60, score=0.666, total=   6.1s\n",
      "[CV] n_estimators=60 .................................................\n",
      "[CV] ..................... n_estimators=60, score=0.663, total=   6.0s\n",
      "[CV] n_estimators=60 .................................................\n",
      "[CV] ..................... n_estimators=60, score=0.667, total=   6.0s\n",
      "[CV] n_estimators=70 .................................................\n",
      "[CV] ..................... n_estimators=70, score=0.666, total=   7.0s\n",
      "[CV] n_estimators=70 .................................................\n",
      "[CV] ..................... n_estimators=70, score=0.667, total=   7.0s\n",
      "[CV] n_estimators=70 .................................................\n",
      "[CV] ..................... n_estimators=70, score=0.666, total=   7.3s\n",
      "[CV] n_estimators=70 .................................................\n",
      "[CV] ..................... n_estimators=70, score=0.663, total=   7.7s\n",
      "[CV] n_estimators=70 .................................................\n",
      "[CV] ..................... n_estimators=70, score=0.667, total=   7.4s\n",
      "[CV] n_estimators=80 .................................................\n",
      "[CV] ..................... n_estimators=80, score=0.665, total=   8.5s\n",
      "[CV] n_estimators=80 .................................................\n",
      "[CV] ..................... n_estimators=80, score=0.668, total=   8.5s\n",
      "[CV] n_estimators=80 .................................................\n",
      "[CV] ..................... n_estimators=80, score=0.667, total=   8.5s\n",
      "[CV] n_estimators=80 .................................................\n",
      "[CV] ..................... n_estimators=80, score=0.664, total=   8.7s\n",
      "[CV] n_estimators=80 .................................................\n",
      "[CV] ..................... n_estimators=80, score=0.667, total=   8.5s\n",
      "[CV] n_estimators=90 .................................................\n",
      "[CV] ..................... n_estimators=90, score=0.665, total=   9.7s\n",
      "[CV] n_estimators=90 .................................................\n",
      "[CV] ..................... n_estimators=90, score=0.667, total=   9.8s\n",
      "[CV] n_estimators=90 .................................................\n",
      "[CV] ..................... n_estimators=90, score=0.668, total=   9.7s\n",
      "[CV] n_estimators=90 .................................................\n",
      "[CV] ..................... n_estimators=90, score=0.664, total=   9.6s\n",
      "[CV] n_estimators=90 .................................................\n",
      "[CV] ..................... n_estimators=90, score=0.667, total=   9.7s\n"
     ]
    },
    {
     "name": "stderr",
     "output_type": "stream",
     "text": [
      "[Parallel(n_jobs=1)]: Done  25 out of  25 | elapsed:  3.1min finished\n"
     ]
    },
    {
     "data": {
      "text/plain": [
       "GridSearchCV(cv=KFold(n_splits=5, random_state=1234, shuffle=True),\n",
       "             estimator=AdaBoostClassifier(random_state=1234),\n",
       "             param_grid={'n_estimators': range(50, 100, 10)},\n",
       "             scoring='accuracy', verbose=3)"
      ]
     },
     "execution_count": 20,
     "metadata": {},
     "output_type": "execute_result"
    }
   ],
   "source": [
    "parameters = {'n_estimators': range(50, 100, 10)}\n",
    "\n",
    "abc = AdaBoostClassifier(random_state=1234)\n",
    "grid = GridSearchCV(estimator=abc, param_grid=parameters, \n",
    "                         cv=kf, \n",
    "                         scoring='accuracy', \n",
    "                         verbose=3) \n",
    "\n",
    "grid.fit(X_train, y_train)"
   ]
  },
  {
   "cell_type": "code",
   "execution_count": 21,
   "metadata": {},
   "outputs": [
    {
     "name": "stdout",
     "output_type": "stream",
     "text": [
      "正解率: 0.664\n",
      "Precision: 0.608\n",
      "Recall: 0.471\n",
      "F1: 0.531\n"
     ]
    }
   ],
   "source": [
    "y_pred = grid.predict(X_test)\n",
    "\n",
    "acc = accuracy_score(y_test, y_pred)\n",
    "precision = precision_score(y_test, y_pred)\n",
    "recall = recall_score(y_test, y_pred)\n",
    "f_1 = f1_score(y_test, y_pred)\n",
    "\n",
    "print(f'正解率: {acc:.3}')\n",
    "print(f'Precision: {precision:.3}')\n",
    "print(f'Recall: {recall:.3}')\n",
    "print(f'F1: {f_1:.3}')"
   ]
  },
  {
   "cell_type": "code",
   "execution_count": 22,
   "metadata": {},
   "outputs": [
    {
     "data": {
      "text/plain": [
       "AdaBoostClassifier(n_estimators=90, random_state=1234)"
      ]
     },
     "execution_count": 22,
     "metadata": {},
     "output_type": "execute_result"
    }
   ],
   "source": [
    "grid.best_estimator_"
   ]
  },
  {
   "cell_type": "markdown",
   "metadata": {},
   "source": [
    "決定木を上回る性能が達成された"
   ]
  },
  {
   "cell_type": "markdown",
   "metadata": {},
   "source": [
    "## ニューラルネットワークの利用\n",
    "- FutureWarning は無視して良い"
   ]
  },
  {
   "cell_type": "code",
   "execution_count": 23,
   "metadata": {},
   "outputs": [
    {
     "name": "stderr",
     "output_type": "stream",
     "text": [
      "/Users/mizoguchi/anaconda3/lib/python3.7/site-packages/tensorflow/python/framework/dtypes.py:516: FutureWarning: Passing (type, 1) or '1type' as a synonym of type is deprecated; in a future version of numpy, it will be understood as (type, (1,)) / '(1,)type'.\n",
      "  _np_qint8 = np.dtype([(\"qint8\", np.int8, 1)])\n",
      "/Users/mizoguchi/anaconda3/lib/python3.7/site-packages/tensorflow/python/framework/dtypes.py:517: FutureWarning: Passing (type, 1) or '1type' as a synonym of type is deprecated; in a future version of numpy, it will be understood as (type, (1,)) / '(1,)type'.\n",
      "  _np_quint8 = np.dtype([(\"quint8\", np.uint8, 1)])\n",
      "/Users/mizoguchi/anaconda3/lib/python3.7/site-packages/tensorflow/python/framework/dtypes.py:518: FutureWarning: Passing (type, 1) or '1type' as a synonym of type is deprecated; in a future version of numpy, it will be understood as (type, (1,)) / '(1,)type'.\n",
      "  _np_qint16 = np.dtype([(\"qint16\", np.int16, 1)])\n",
      "/Users/mizoguchi/anaconda3/lib/python3.7/site-packages/tensorflow/python/framework/dtypes.py:519: FutureWarning: Passing (type, 1) or '1type' as a synonym of type is deprecated; in a future version of numpy, it will be understood as (type, (1,)) / '(1,)type'.\n",
      "  _np_quint16 = np.dtype([(\"quint16\", np.uint16, 1)])\n",
      "/Users/mizoguchi/anaconda3/lib/python3.7/site-packages/tensorflow/python/framework/dtypes.py:520: FutureWarning: Passing (type, 1) or '1type' as a synonym of type is deprecated; in a future version of numpy, it will be understood as (type, (1,)) / '(1,)type'.\n",
      "  _np_qint32 = np.dtype([(\"qint32\", np.int32, 1)])\n",
      "/Users/mizoguchi/anaconda3/lib/python3.7/site-packages/tensorflow/python/framework/dtypes.py:525: FutureWarning: Passing (type, 1) or '1type' as a synonym of type is deprecated; in a future version of numpy, it will be understood as (type, (1,)) / '(1,)type'.\n",
      "  np_resource = np.dtype([(\"resource\", np.ubyte, 1)])\n",
      "/Users/mizoguchi/anaconda3/lib/python3.7/site-packages/tensorboard/compat/tensorflow_stub/dtypes.py:541: FutureWarning: Passing (type, 1) or '1type' as a synonym of type is deprecated; in a future version of numpy, it will be understood as (type, (1,)) / '(1,)type'.\n",
      "  _np_qint8 = np.dtype([(\"qint8\", np.int8, 1)])\n",
      "/Users/mizoguchi/anaconda3/lib/python3.7/site-packages/tensorboard/compat/tensorflow_stub/dtypes.py:542: FutureWarning: Passing (type, 1) or '1type' as a synonym of type is deprecated; in a future version of numpy, it will be understood as (type, (1,)) / '(1,)type'.\n",
      "  _np_quint8 = np.dtype([(\"quint8\", np.uint8, 1)])\n",
      "/Users/mizoguchi/anaconda3/lib/python3.7/site-packages/tensorboard/compat/tensorflow_stub/dtypes.py:543: FutureWarning: Passing (type, 1) or '1type' as a synonym of type is deprecated; in a future version of numpy, it will be understood as (type, (1,)) / '(1,)type'.\n",
      "  _np_qint16 = np.dtype([(\"qint16\", np.int16, 1)])\n",
      "/Users/mizoguchi/anaconda3/lib/python3.7/site-packages/tensorboard/compat/tensorflow_stub/dtypes.py:544: FutureWarning: Passing (type, 1) or '1type' as a synonym of type is deprecated; in a future version of numpy, it will be understood as (type, (1,)) / '(1,)type'.\n",
      "  _np_quint16 = np.dtype([(\"quint16\", np.uint16, 1)])\n",
      "/Users/mizoguchi/anaconda3/lib/python3.7/site-packages/tensorboard/compat/tensorflow_stub/dtypes.py:545: FutureWarning: Passing (type, 1) or '1type' as a synonym of type is deprecated; in a future version of numpy, it will be understood as (type, (1,)) / '(1,)type'.\n",
      "  _np_qint32 = np.dtype([(\"qint32\", np.int32, 1)])\n",
      "/Users/mizoguchi/anaconda3/lib/python3.7/site-packages/tensorboard/compat/tensorflow_stub/dtypes.py:550: FutureWarning: Passing (type, 1) or '1type' as a synonym of type is deprecated; in a future version of numpy, it will be understood as (type, (1,)) / '(1,)type'.\n",
      "  np_resource = np.dtype([(\"resource\", np.ubyte, 1)])\n"
     ]
    }
   ],
   "source": [
    "from tensorflow.keras import Sequential, Input\n",
    "from tensorflow.keras.layers import Dense, BatchNormalization\n",
    "from tensorflow.keras.optimizers import SGD, Adam\n",
    "from tensorflow.keras.losses import BinaryCrossentropy\n",
    "from tensorflow.keras.metrics import BinaryAccuracy, Precision, Recall"
   ]
  },
  {
   "cell_type": "code",
   "execution_count": 24,
   "metadata": {},
   "outputs": [
    {
     "name": "stderr",
     "output_type": "stream",
     "text": [
      "WARNING - From /Users/mizoguchi/anaconda3/lib/python3.7/site-packages/tensorflow/python/ops/init_ops.py:1251: calling VarianceScaling.__init__ (from tensorflow.python.ops.init_ops) with dtype is deprecated and will be removed in a future version.\n",
      "Instructions for updating:\n",
      "Call initializer instance with the dtype argument instead of passing it to the constructor\n",
      "WARNING - From /Users/mizoguchi/anaconda3/lib/python3.7/site-packages/tensorflow/python/ops/nn_impl.py:180: add_dispatch_support.<locals>.wrapper (from tensorflow.python.ops.array_ops) is deprecated and will be removed in a future version.\n",
      "Instructions for updating:\n",
      "Use tf.where in 2.0, which has the same broadcast rule as np.where\n"
     ]
    }
   ],
   "source": [
    "model = Sequential()\n",
    "model.add(Input(shape=(len(X_train.columns),)))\n",
    "model.add(Dense(100, activation='relu'))\n",
    "model.add(BatchNormalization())\n",
    "model.add(Dense(100, activation='relu'))\n",
    "model.add(BatchNormalization())\n",
    "model.add(Dense(100, activation='relu'))\n",
    "model.add(BatchNormalization())\n",
    "model.add(Dense(100, activation='relu'))\n",
    "model.add(BatchNormalization())\n",
    "model.add(Dense(1, activation='sigmoid'))\n",
    "\n",
    "model.compile(\n",
    "    optimizer=Adam(),\n",
    "    loss=BinaryCrossentropy(),\n",
    "    metrics=[BinaryAccuracy(), Precision(), Recall()],\n",
    ")"
   ]
  },
  {
   "cell_type": "code",
   "execution_count": 25,
   "metadata": {},
   "outputs": [
    {
     "name": "stdout",
     "output_type": "stream",
     "text": [
      "Train on 232170 samples, validate on 99502 samples\n",
      "Epoch 1/10\n",
      "232170/232170 [==============================] - 6s 26us/sample - loss: 0.6164 - binary_accuracy: 0.6530 - precision: 0.5903 - recall: 0.4600 - val_loss: 0.6095 - val_binary_accuracy: 0.6598 - val_precision: 0.5942 - val_recall: 0.4980\n",
      "Epoch 2/10\n",
      "232170/232170 [==============================] - 6s 24us/sample - loss: 0.6079 - binary_accuracy: 0.6602 - precision: 0.6028 - recall: 0.4654 - val_loss: 0.6053 - val_binary_accuracy: 0.6614 - val_precision: 0.5932 - val_recall: 0.5147\n",
      "Epoch 3/10\n",
      "232170/232170 [==============================] - 5s 23us/sample - loss: 0.6053 - binary_accuracy: 0.6631 - precision: 0.6069 - recall: 0.4702 - val_loss: 0.6028 - val_binary_accuracy: 0.6644 - val_precision: 0.6229 - val_recall: 0.4287\n",
      "Epoch 4/10\n",
      "232170/232170 [==============================] - 5s 23us/sample - loss: 0.6039 - binary_accuracy: 0.6641 - precision: 0.6081 - recall: 0.4733 - val_loss: 0.6070 - val_binary_accuracy: 0.6620 - val_precision: 0.6080 - val_recall: 0.4593\n",
      "Epoch 5/10\n",
      "232170/232170 [==============================] - 5s 24us/sample - loss: 0.6020 - binary_accuracy: 0.6661 - precision: 0.6094 - recall: 0.4823 - val_loss: 0.6020 - val_binary_accuracy: 0.6653 - val_precision: 0.6224 - val_recall: 0.4360\n",
      "Epoch 6/10\n",
      "232170/232170 [==============================] - 5s 23us/sample - loss: 0.6004 - binary_accuracy: 0.6677 - precision: 0.6113 - recall: 0.4864 - val_loss: 0.6020 - val_binary_accuracy: 0.6666 - val_precision: 0.5976 - val_recall: 0.5346\n",
      "Epoch 7/10\n",
      "232170/232170 [==============================] - 6s 25us/sample - loss: 0.5993 - binary_accuracy: 0.6693 - precision: 0.6132 - recall: 0.4904 - val_loss: 0.6004 - val_binary_accuracy: 0.6683 - val_precision: 0.6194 - val_recall: 0.4639\n",
      "Epoch 8/10\n",
      "232170/232170 [==============================] - 6s 26us/sample - loss: 0.5982 - binary_accuracy: 0.6699 - precision: 0.6146 - recall: 0.4897 - val_loss: 0.6032 - val_binary_accuracy: 0.6647 - val_precision: 0.6295 - val_recall: 0.4132\n",
      "Epoch 9/10\n",
      "232170/232170 [==============================] - 6s 25us/sample - loss: 0.5975 - binary_accuracy: 0.6705 - precision: 0.6148 - recall: 0.4927 - val_loss: 0.5990 - val_binary_accuracy: 0.6682 - val_precision: 0.6031 - val_recall: 0.5225\n",
      "Epoch 10/10\n",
      "232170/232170 [==============================] - 6s 27us/sample - loss: 0.5967 - binary_accuracy: 0.6713 - precision: 0.6151 - recall: 0.4971 - val_loss: 0.5994 - val_binary_accuracy: 0.6687 - val_precision: 0.6095 - val_recall: 0.5004\n"
     ]
    }
   ],
   "source": [
    "history = model.fit(\n",
    "    X_train,\n",
    "    y_train,\n",
    "    batch_size=128,\n",
    "    epochs=10,\n",
    "    validation_data=(X_test, y_test),\n",
    ")"
   ]
  },
  {
   "cell_type": "markdown",
   "metadata": {},
   "source": [
    "Adaboost と同等の性能が得られた"
   ]
  },
  {
   "cell_type": "code",
   "execution_count": null,
   "metadata": {},
   "outputs": [],
   "source": []
  }
 ],
 "metadata": {
  "kernelspec": {
   "display_name": "Python 3",
   "language": "python",
   "name": "python3"
  },
  "language_info": {
   "codemirror_mode": {
    "name": "ipython",
    "version": 3
   },
   "file_extension": ".py",
   "mimetype": "text/x-python",
   "name": "python",
   "nbconvert_exporter": "python",
   "pygments_lexer": "ipython3",
   "version": "3.7.3"
  }
 },
 "nbformat": 4,
 "nbformat_minor": 2
}
